{
 "cells": [
  {
   "cell_type": "code",
   "execution_count": 1,
   "metadata": {},
   "outputs": [
    {
     "name": "stdout",
     "output_type": "stream",
     "text": [
      "[3 4 5 6 7 2]\n",
      "[ 3  4  5 90  7  2]\n",
      "[ 3  4 76 33  7  2]\n",
      "[ 3  4 76  5  5  2]\n"
     ]
    }
   ],
   "source": [
    "# module 4\n",
    "\n",
    "import numpy as np\n",
    "\n",
    "# modifying a single data in a 1d array is also like a list.\n",
    "# we can modify multiple of values at once by using slicing.\n",
    "a=np.array([3,4,5,6,7,2])\n",
    "print(a)\n",
    "a[3]=90\n",
    "print(a)\n",
    "a[2:4]=[76,33]\n",
    "print(a)\n",
    "a[3:5]=5\n",
    "print(a)"
   ]
  },
  {
   "cell_type": "code",
   "execution_count": 4,
   "metadata": {},
   "outputs": [
    {
     "name": "stdout",
     "output_type": "stream",
     "text": [
      "[[1 3 4 2 5 6 7]\n",
      " [4 8 3 5 2 3 7]]\n",
      "[[ 1  3  4  2  5  6  7]\n",
      " [ 4  8  3  5  2 90  7]]\n"
     ]
    }
   ],
   "source": [
    "# modifying 2D array\n",
    "# changing a single element\n",
    "b=np.array([[1,3,4,2,5,6,7],[4,8,3,5,2,3,7]])\n",
    "print(b)\n",
    "b[1,5]=90\n",
    "print(b)"
   ]
  },
  {
   "cell_type": "code",
   "execution_count": 5,
   "metadata": {},
   "outputs": [
    {
     "name": "stdout",
     "output_type": "stream",
     "text": [
      "[[ 1  3  4  2  5  6  7]\n",
      " [ 4  8  3  5  2 90  7]]\n",
      "[[ 1  3  4 88  5  6  7]\n",
      " [ 4  8  3 34  2 90  7]]\n"
     ]
    }
   ],
   "source": [
    "# chaning a entire column\n",
    "print(b)\n",
    "b[:,3]=[88,34]\n",
    "print(b)"
   ]
  },
  {
   "cell_type": "code",
   "execution_count": 6,
   "metadata": {},
   "outputs": [
    {
     "name": "stdout",
     "output_type": "stream",
     "text": [
      "[[ 1  3  4 88  5  6  7]\n",
      " [ 4  8  3 34  2 90  7]]\n",
      "[[ 1  3  4  9  5  6  7]\n",
      " [ 4  8  3  9  2 90  7]]\n"
     ]
    }
   ],
   "source": [
    "# we can also make all the element of a column a single element.\n",
    "print(b)\n",
    "b[:,3]=9\n",
    "# all we have to do is that we need to just pass a single value instead of a list.\n",
    "print(b)"
   ]
  },
  {
   "cell_type": "code",
   "execution_count": 7,
   "metadata": {},
   "outputs": [
    {
     "name": "stdout",
     "output_type": "stream",
     "text": [
      "[[[1 2 3]\n",
      "  [4 5 6]]\n",
      "\n",
      " [[5 7 4]\n",
      "  [8 3 2]]\n",
      "\n",
      " [[3 4 5]\n",
      "  [8 7 5]]]\n",
      "\n",
      "\n",
      "[[[1 2 3]\n",
      "  [3 5 2]]\n",
      "\n",
      " [[5 7 4]\n",
      "  [6 4 1]]\n",
      "\n",
      " [[3 4 5]\n",
      "  [0 0 1]]]\n"
     ]
    }
   ],
   "source": [
    "# modifying 3d array.\n",
    "# just like other array we have to first select the chunk that we want to modify,\n",
    "# after thate we will set that chunk equal to our desired value.\n",
    "c=np.array([[[1,2,3],[4,5,6]],[[5,7,4],[8,3,2]],[[3,4,5],[8,7,5]]])\n",
    "print(c)\n",
    "c[:,1,:]=[[3,5,2],[6,4,1],[0,0,1]]\n",
    "print(\"\\n\")\n",
    "print(c)"
   ]
  },
  {
   "cell_type": "markdown",
   "metadata": {},
   "source": [
    "# Nan values"
   ]
  },
  {
   "cell_type": "code",
   "execution_count": 10,
   "metadata": {},
   "outputs": [
    {
     "name": "stdout",
     "output_type": "stream",
     "text": [
      "[[ 1.  2.  3.  6. nan]\n",
      " [nan nan  4.  5.  1.]\n",
      " [nan  8.  9. nan  6.]]\n",
      "[[False False False False  True]\n",
      " [ True  True False False False]\n",
      " [ True False False  True False]]\n",
      "[[1. 2. 3. 6. 0.]\n",
      " [0. 0. 4. 5. 1.]\n",
      " [0. 8. 9. 0. 6.]]\n"
     ]
    }
   ],
   "source": [
    "# we can find the nan values form our array using isnan() method\n",
    "# this will give us an boolean masking.\n",
    "# then we can apply the boolean masking as filter and can also change the nan values.\n",
    "\n",
    "mys=np.array([[1,2,3,6,np.nan],[np.nan,np.nan,4,5,1],[np.nan,8,9,np.nan,6]], dtype=\"float\")\n",
    "print(mys)\n",
    "\n",
    "print(np.isnan(mys))\n",
    "\n",
    "filt=np.isnan(mys)\n",
    "mys[filt]=0\n",
    "\n",
    "print(mys)"
   ]
  },
  {
   "cell_type": "code",
   "execution_count": 19,
   "metadata": {},
   "outputs": [
    {
     "name": "stdout",
     "output_type": "stream",
     "text": [
      "[ inf -inf   9.  nan]\n",
      "[ True  True False False]\n",
      "[False False  True False]\n",
      "[ 1.79769313e+308 -1.79769313e+308  9.00000000e+000  0.00000000e+000]\n"
     ]
    }
   ],
   "source": [
    "# there are other special functions related to nan.\n",
    "\n",
    "# isinf()\n",
    "# it will return true if value is infinity.\n",
    "mys2=np.array([np.inf,-np.inf,9,np.nan])\n",
    "print(mys2)\n",
    "\n",
    "print(np.isinf(mys2))\n",
    "\n",
    "# isfinite()\n",
    "# it will return true if value is not nan or inf\n",
    "print(np.isfinite(mys2))\n",
    "\n",
    "# nan_to_num()\n",
    "# this method map nan to 0, inf to max float, -inf to min float\n",
    "print(np.nan_to_num(mys2))"
   ]
  },
  {
   "cell_type": "code",
   "execution_count": 23,
   "metadata": {},
   "outputs": [
    {
     "name": "stdout",
     "output_type": "stream",
     "text": [
      "nan\n",
      "nan\n",
      "nan\n",
      "4\n",
      "4\n",
      "\n",
      "\n",
      "28.0\n",
      "1.0\n",
      "9.0\n",
      "6\n",
      "7\n"
     ]
    }
   ],
   "source": [
    "# if our array have nan values then it will trouble us when we are calculating.\n",
    "on=np.array([6,7,3,2,np.nan,np.nan,9,1])\n",
    "print(np.sum(on))\n",
    "print(np.min(on))\n",
    "print(np.max(on))\n",
    "print(np.argmax(on))\n",
    "print(np.argmin(on))\n",
    "\n",
    "print(\"\\n\")\n",
    "# to overcome this problem we can use these following functions.\n",
    "print(np.nansum(on))\n",
    "print(np.nanmin(on))\n",
    "print(np.nanmax(on))\n",
    "print(np.nanargmax(on))\n",
    "print(np.nanargmin(on))"
   ]
  },
  {
   "cell_type": "code",
   "execution_count": null,
   "metadata": {},
   "outputs": [],
   "source": []
  }
 ],
 "metadata": {
  "kernelspec": {
   "display_name": "Python 3",
   "language": "python",
   "name": "python3"
  },
  "language_info": {
   "codemirror_mode": {
    "name": "ipython",
    "version": 3
   },
   "file_extension": ".py",
   "mimetype": "text/x-python",
   "name": "python",
   "nbconvert_exporter": "python",
   "pygments_lexer": "ipython3",
   "version": "3.8.2"
  }
 },
 "nbformat": 4,
 "nbformat_minor": 4
}
