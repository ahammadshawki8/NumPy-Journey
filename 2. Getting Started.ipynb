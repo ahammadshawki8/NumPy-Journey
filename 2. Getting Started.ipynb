{
 "cells": [
  {
   "cell_type": "code",
   "execution_count": 16,
   "metadata": {},
   "outputs": [
    {
     "data": {
      "text/plain": [
       "'pip install numpy'"
      ]
     },
     "execution_count": 16,
     "metadata": {},
     "output_type": "execute_result"
    }
   ],
   "source": [
    "# module 2\n",
    "# first we need to install numpy with pip\n",
    "\"pip install numpy\""
   ]
  },
  {
   "cell_type": "code",
   "execution_count": 2,
   "metadata": {},
   "outputs": [],
   "source": [
    "# then we need to import numpy\n",
    "import numpy as np\n",
    "# this is a convention."
   ]
  },
  {
   "cell_type": "code",
   "execution_count": 3,
   "metadata": {},
   "outputs": [
    {
     "data": {
      "text/plain": [
       "array([1, 2, 3])"
      ]
     },
     "execution_count": 3,
     "metadata": {},
     "output_type": "execute_result"
    }
   ],
   "source": [
    "# initialize a array\n",
    "# we can do this with array() function\n",
    "a=np.array([1,2,3])\n",
    "# here we have to pass in a list as the arguement.\n",
    "# this is basically a single dimentional array.\n",
    "a"
   ]
  },
  {
   "cell_type": "code",
   "execution_count": 4,
   "metadata": {},
   "outputs": [
    {
     "name": "stdout",
     "output_type": "stream",
     "text": [
      "[['3' 'fu' '1' '3']\n",
      " ['4' '9' '3' '5']]\n",
      "<U11\n"
     ]
    }
   ],
   "source": [
    "# another important thing is that all the values of an array must be single datatypr\n",
    "h=np.array([[3,\"fu\",1,3],[4,9,3,5]])\n",
    "print(h)\n",
    "# in this case we can see that, when we have a string in our array, all the values is turned into a string\n",
    "# if we print out the datatype of the array.\n",
    "print(h.dtype)\n",
    "# it is saying us u11\n",
    "# that means unicode character which actually means string."
   ]
  },
  {
   "cell_type": "code",
   "execution_count": 5,
   "metadata": {},
   "outputs": [
    {
     "name": "stdout",
     "output_type": "stream",
     "text": [
      "[1 2 3]\n",
      "[ 2  4  6  8 10 12 14]\n"
     ]
    }
   ],
   "source": [
    "print(a)\n",
    "# we can also initialize an numpy array by arange() function.\n",
    "# arange() just work like range(), but instead of creating a list, it creates a numpy array.\n",
    "v=np.arange(2,15,2)\n",
    "print(v)"
   ]
  },
  {
   "cell_type": "code",
   "execution_count": 6,
   "metadata": {},
   "outputs": [
    {
     "data": {
      "text/plain": [
       "array([[1.2, 2.8, 3.3],\n",
       "       [4.7, 5.2, 6.1]])"
      ]
     },
     "execution_count": 6,
     "metadata": {},
     "output_type": "execute_result"
    }
   ],
   "source": [
    "# we can crete complex multi dimentional array too.\n",
    "b=np.array([[1.2,2.8,3.3],[4.7,5.2,6.1]])\n",
    "# here we have to use list inside list.\n",
    "b"
   ]
  },
  {
   "cell_type": "code",
   "execution_count": 7,
   "metadata": {},
   "outputs": [
    {
     "name": "stdout",
     "output_type": "stream",
     "text": [
      "[[1.2 2.8 3.3]\n",
      " [4.7 5.2 6.1]]\n"
     ]
    }
   ],
   "source": [
    "print(b)"
   ]
  },
  {
   "cell_type": "code",
   "execution_count": 8,
   "metadata": {},
   "outputs": [
    {
     "data": {
      "text/plain": [
       "array([[[1, 2, 3],\n",
       "        [4, 5, 6]],\n",
       "\n",
       "       [[5, 7, 4],\n",
       "        [8, 3, 2]],\n",
       "\n",
       "       [[3, 4, 5],\n",
       "        [8, 7, 5]]])"
      ]
     },
     "execution_count": 8,
     "metadata": {},
     "output_type": "execute_result"
    }
   ],
   "source": [
    "# we can keep doing this we can nest list within list and create 3 dimentional array etc.\n",
    "c=np.array([[[1,2,3],[4,5,6]],[[5,7,4],[8,3,2]],[[3,4,5],[8,7,5]]])\n",
    "c"
   ]
  },
  {
   "cell_type": "code",
   "execution_count": 9,
   "metadata": {},
   "outputs": [
    {
     "name": "stdout",
     "output_type": "stream",
     "text": [
      "1\n",
      "2\n",
      "3\n"
     ]
    }
   ],
   "source": [
    "# get dimension\n",
    "# we can get the dimenetion of numpy arrays by ndim attribute\n",
    "# ndim stands for number of dimention\n",
    "print(a.ndim)\n",
    "print(b.ndim)\n",
    "print(c.ndim)"
   ]
  },
  {
   "cell_type": "code",
   "execution_count": 10,
   "metadata": {},
   "outputs": [
    {
     "name": "stdout",
     "output_type": "stream",
     "text": [
      "(3,)\n",
      "(2, 3)\n",
      "(3, 2, 3)\n"
     ]
    }
   ],
   "source": [
    "# get shape\n",
    "# we can get the dshape of numpy arrays by shape attribute\n",
    "print(a.shape)\n",
    "print(b.shape)\n",
    "print(c.shape)"
   ]
  },
  {
   "cell_type": "code",
   "execution_count": 11,
   "metadata": {},
   "outputs": [
    {
     "name": "stdout",
     "output_type": "stream",
     "text": [
      "int32\n",
      "float64\n",
      "int32\n"
     ]
    }
   ],
   "source": [
    "# get datatype\n",
    "# we can also get the datatype of an array by dtype attribute\n",
    "print(a.dtype)\n",
    "print(b.dtype)\n",
    "print(c.dtype)"
   ]
  },
  {
   "cell_type": "code",
   "execution_count": 12,
   "metadata": {},
   "outputs": [
    {
     "name": "stdout",
     "output_type": "stream",
     "text": [
      "int8\n"
     ]
    }
   ],
   "source": [
    "# we can also specify what datatype we want when we are creating the array by dtype arguement\n",
    "d=np.array([3,5,9],dtype=\"int8\")\n",
    "print(d.dtype)"
   ]
  },
  {
   "cell_type": "code",
   "execution_count": 13,
   "metadata": {},
   "outputs": [
    {
     "name": "stdout",
     "output_type": "stream",
     "text": [
      "4\n",
      "8\n",
      "4\n",
      "1\n"
     ]
    }
   ],
   "source": [
    "# get size\n",
    "# we can see the size of different arrays elements by itemsize attribute.\n",
    "print(a.itemsize)\n",
    "print(b.itemsize)\n",
    "print(c.itemsize)\n",
    "print(d.itemsize)\n",
    "# this will give us the size in bytes.\n",
    "# basically, 1 byte = 8 bit\n",
    "# so, int32 = 4 byte and so on."
   ]
  },
  {
   "cell_type": "code",
   "execution_count": 14,
   "metadata": {},
   "outputs": [
    {
     "name": "stdout",
     "output_type": "stream",
     "text": [
      "3\n"
     ]
    }
   ],
   "source": [
    "# we can see the number of elements by size attribute\n",
    "print(a.size)"
   ]
  },
  {
   "cell_type": "code",
   "execution_count": 15,
   "metadata": {},
   "outputs": [
    {
     "name": "stdout",
     "output_type": "stream",
     "text": [
      "12\n",
      "12\n"
     ]
    }
   ],
   "source": [
    "# total size\n",
    "# we can see the total size in two methods.\n",
    "# method 1\n",
    "print(a.size*a.itemsize)\n",
    "# method 2\n",
    "# we can use nbytes attribute\n",
    "# n bytes stands for number of bytes\n",
    "print(a.nbytes)"
   ]
  },
  {
   "cell_type": "code",
   "execution_count": null,
   "metadata": {},
   "outputs": [],
   "source": []
  }
 ],
 "metadata": {
  "kernelspec": {
   "display_name": "Python 3",
   "language": "python",
   "name": "python3"
  },
  "language_info": {
   "codemirror_mode": {
    "name": "ipython",
    "version": 3
   },
   "file_extension": ".py",
   "mimetype": "text/x-python",
   "name": "python",
   "nbconvert_exporter": "python",
   "pygments_lexer": "ipython3",
   "version": "3.8.2"
  }
 },
 "nbformat": 4,
 "nbformat_minor": 4
}
