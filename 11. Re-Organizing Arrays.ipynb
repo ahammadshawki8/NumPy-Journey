{
 "cells": [
  {
   "cell_type": "code",
   "execution_count": 1,
   "metadata": {},
   "outputs": [
    {
     "name": "stdout",
     "output_type": "stream",
     "text": [
      "[[1 2 3 4]\n",
      " [5 6 7 8]]\n",
      "(2, 4)\n"
     ]
    }
   ],
   "source": [
    "# module 11\n",
    "\n",
    "import numpy as np\n",
    "# lets initialize an array.\n",
    "t=np.array([[1,2,3,4],[5,6,7,8]])\n",
    "print(t)\n",
    "print(t.shape)"
   ]
  },
  {
   "cell_type": "code",
   "execution_count": 2,
   "metadata": {},
   "outputs": [
    {
     "name": "stdout",
     "output_type": "stream",
     "text": [
      "[[1 2]\n",
      " [3 4]\n",
      " [5 6]\n",
      " [7 8]]\n"
     ]
    }
   ],
   "source": [
    "# lets convert the array to an (8,1) array\n",
    "# we can use the reshape() method.\n",
    "r=t.reshape([4,2])\n",
    "# here we have to pass the desired shape as the arguement.\n",
    "print(r)"
   ]
  },
  {
   "cell_type": "code",
   "execution_count": 3,
   "metadata": {},
   "outputs": [
    {
     "name": "stdout",
     "output_type": "stream",
     "text": [
      "[[[1 2]\n",
      "  [3 4]]\n",
      "\n",
      " [[5 6]\n",
      "  [7 8]]]\n"
     ]
    }
   ],
   "source": [
    "# we can also make a 3d array from 2d array.\n",
    "r=t.reshape([2,2,2])\n",
    "print(r)"
   ]
  },
  {
   "cell_type": "code",
   "execution_count": 4,
   "metadata": {},
   "outputs": [
    {
     "data": {
      "text/plain": [
       "array([[1, 2, 3, 4],\n",
       "       [5, 6, 7, 8]])"
      ]
     },
     "execution_count": 4,
     "metadata": {},
     "output_type": "execute_result"
    }
   ],
   "source": [
    "# vertically stacking vectors\n",
    "v1=np.array([1,2,3,4])\n",
    "v2=np.array([5,6,7,8])\n",
    "# we can stack the arrays vertically by vstack() method.\n",
    "np.vstack([v1,v2])\n",
    "# we have to pass the arrays in a list as the arguement."
   ]
  },
  {
   "cell_type": "code",
   "execution_count": 5,
   "metadata": {},
   "outputs": [
    {
     "data": {
      "text/plain": [
       "array([[1, 2, 3, 4],\n",
       "       [5, 6, 7, 8],\n",
       "       [5, 6, 7, 8],\n",
       "       [5, 6, 7, 8],\n",
       "       [1, 2, 3, 4],\n",
       "       [1, 2, 3, 4]])"
      ]
     },
     "execution_count": 5,
     "metadata": {},
     "output_type": "execute_result"
    }
   ],
   "source": [
    "# we can keep passing the arrays.\n",
    "np.vstack([v1,v2,v2,v2,v1,v1])"
   ]
  },
  {
   "cell_type": "code",
   "execution_count": 6,
   "metadata": {},
   "outputs": [
    {
     "data": {
      "text/plain": [
       "array([[1., 1., 1., 1., 1., 0., 0., 0., 0.],\n",
       "       [1., 1., 1., 1., 1., 0., 0., 0., 0.]])"
      ]
     },
     "execution_count": 6,
     "metadata": {},
     "output_type": "execute_result"
    }
   ],
   "source": [
    "# horizontal stacking vectors.\n",
    "# they are pretty simmilar to vertical stacks.\n",
    "h1=np.ones([2,5])\n",
    "h2=np.zeros([2,2])\n",
    "# we can use hstack() method to stack arrays vertically.\n",
    "np.hstack([h1,h2,h2])"
   ]
  },
  {
   "cell_type": "code",
   "execution_count": 7,
   "metadata": {},
   "outputs": [
    {
     "name": "stdout",
     "output_type": "stream",
     "text": [
      "[1 2 3 4 5 6 7 8]\n",
      "\n",
      "[[1. 1. 1. 1. 1. 0. 0.]\n",
      " [1. 1. 1. 1. 1. 0. 0.]]\n"
     ]
    }
   ],
   "source": [
    "# concatenate two arrays\n",
    "# what we have done so far by stacking two arrays vertically and horizontally is called concatenation.\n",
    "# we have another function called concatenate().\n",
    "# we can do the operations with this function too.\n",
    "v1=np.array([1,2,3,4])\n",
    "v2=np.array([5,6,7,8])\n",
    "print(np.concatenate([v1,v2],axis=0))\n",
    "\n",
    "print()\n",
    "\n",
    "h1=np.ones([2,5])\n",
    "h2=np.zeros([2,2])\n",
    "print(np.concatenate([h1,h2],axis=1))"
   ]
  },
  {
   "cell_type": "code",
   "execution_count": 8,
   "metadata": {},
   "outputs": [
    {
     "name": "stdout",
     "output_type": "stream",
     "text": [
      "[[5 4 7 4 2]\n",
      " [2 3 4 5 6]]\n",
      "[5 4 7 4 2 2 3 4 5 6]\n",
      "[5 4 7 4 2 2 3 4 5 6]\n"
     ]
    }
   ],
   "source": [
    "# creating a 1d array from multidimentional array.\n",
    "# we can do that by ravel() function.\n",
    "a=np.array([[5,4,7,4,2],[2,3,4,5,6]])\n",
    "print(a)\n",
    "k=np.ravel(a)\n",
    "print(k)\n",
    "# we can also use the flatten() function.\n",
    "p=a.flatten()\n",
    "# note that: we have to call this function from array object not from numpy module. \n",
    "print(p)"
   ]
  },
  {
   "cell_type": "code",
   "execution_count": null,
   "metadata": {},
   "outputs": [],
   "source": []
  }
 ],
 "metadata": {
  "kernelspec": {
   "display_name": "Python 3",
   "language": "python",
   "name": "python3"
  },
  "language_info": {
   "codemirror_mode": {
    "name": "ipython",
    "version": 3
   },
   "file_extension": ".py",
   "mimetype": "text/x-python",
   "name": "python",
   "nbconvert_exporter": "python",
   "pygments_lexer": "ipython3",
   "version": "3.8.2"
  }
 },
 "nbformat": 4,
 "nbformat_minor": 4
}
