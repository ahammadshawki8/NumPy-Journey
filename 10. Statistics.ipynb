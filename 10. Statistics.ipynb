{
 "cells": [
  {
   "cell_type": "code",
   "execution_count": 10,
   "metadata": {},
   "outputs": [
    {
     "name": "stdout",
     "output_type": "stream",
     "text": [
      "[[6 4 5 6]\n",
      " [7 6 7 7]\n",
      " [6 6 6 6]\n",
      " [4 4 6 5]]\n"
     ]
    }
   ],
   "source": [
    "# module 10\n",
    "\n",
    "import numpy as np\n",
    "c=np.array([[6, 4, 5, 6],[7, 6, 7, 7],[6, 6, 6, 6],[4, 4, 6, 5]])\n",
    "print(c)"
   ]
  },
  {
   "cell_type": "code",
   "execution_count": 11,
   "metadata": {},
   "outputs": [
    {
     "name": "stdout",
     "output_type": "stream",
     "text": [
      "4\n",
      "7\n",
      "5.6875\n",
      "91\n"
     ]
    }
   ],
   "source": [
    "# we can use statistics function in our numpy array.\n",
    "print(np.min(c))\n",
    "print(np.max(c))\n",
    "print(np.mean(c))\n",
    "print(np.sum(c))"
   ]
  },
  {
   "cell_type": "code",
   "execution_count": 12,
   "metadata": {},
   "outputs": [
    {
     "name": "stdout",
     "output_type": "stream",
     "text": [
      "[4 6 6 4]\n",
      "[6 7 6 6]\n",
      "[5.25 6.75 6.   4.75]\n",
      "[21 27 24 19]\n"
     ]
    }
   ],
   "source": [
    "# we can use the axis arguement and set that equals to 1 for doing statistics function for every column\n",
    "print(np.min(c,axis=1))\n",
    "print(np.max(c,axis=1))\n",
    "print(np.mean(c,axis=1))\n",
    "print(np.sum(c,axis=1))"
   ]
  },
  {
   "cell_type": "code",
   "execution_count": 13,
   "metadata": {},
   "outputs": [
    {
     "name": "stdout",
     "output_type": "stream",
     "text": [
      "[4 4 5 5]\n",
      "[7 6 7 7]\n",
      "[5.75 5.   6.   6.  ]\n",
      "[23 20 24 24]\n"
     ]
    }
   ],
   "source": [
    "# we can use the axis arguement and set that equals to 0 for doing statistics function for every row\n",
    "print(np.min(c,axis=0))\n",
    "print(np.max(c,axis=0))\n",
    "print(np.mean(c,axis=0))\n",
    "print(np.sum(c,axis=0))"
   ]
  },
  {
   "cell_type": "code",
   "execution_count": null,
   "metadata": {},
   "outputs": [],
   "source": []
  }
 ],
 "metadata": {
  "kernelspec": {
   "display_name": "Python 3",
   "language": "python",
   "name": "python3"
  },
  "language_info": {
   "codemirror_mode": {
    "name": "ipython",
    "version": 3
   },
   "file_extension": ".py",
   "mimetype": "text/x-python",
   "name": "python",
   "nbconvert_exporter": "python",
   "pygments_lexer": "ipython3",
   "version": "3.8.2"
  }
 },
 "nbformat": 4,
 "nbformat_minor": 4
}
