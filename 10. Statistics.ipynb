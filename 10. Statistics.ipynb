{
 "cells": [
  {
   "cell_type": "code",
   "execution_count": 63,
   "metadata": {},
   "outputs": [
    {
     "name": "stdout",
     "output_type": "stream",
     "text": [
      "[[6 4 5 6]\n",
      " [7 6 7 7]\n",
      " [6 6 6 6]\n",
      " [4 4 6 5]]\n"
     ]
    }
   ],
   "source": [
    "# module 10\n",
    "\n",
    "import numpy as np\n",
    "c=np.array([[6, 4, 5, 6],[7, 6, 7, 7],[6, 6, 6, 6],[4, 4, 6, 5]])\n",
    "print(c)"
   ]
  },
  {
   "cell_type": "code",
   "execution_count": 11,
   "metadata": {},
   "outputs": [
    {
     "name": "stdout",
     "output_type": "stream",
     "text": [
      "4\n",
      "7\n",
      "5.6875\n",
      "91\n"
     ]
    }
   ],
   "source": [
    "# we can use statistics function in our numpy array.\n",
    "print(np.min(c))\n",
    "print(np.max(c))\n",
    "print(np.mean(c))\n",
    "print(np.sum(c))"
   ]
  },
  {
   "cell_type": "code",
   "execution_count": 12,
   "metadata": {},
   "outputs": [
    {
     "name": "stdout",
     "output_type": "stream",
     "text": [
      "[4 6 6 4]\n",
      "[6 7 6 6]\n",
      "[5.25 6.75 6.   4.75]\n",
      "[21 27 24 19]\n"
     ]
    }
   ],
   "source": [
    "# we can use the axis arguement and set that equals to 1 for doing statistics function for every column\n",
    "print(np.min(c,axis=1))\n",
    "print(np.max(c,axis=1))\n",
    "print(np.mean(c,axis=1))\n",
    "print(np.sum(c,axis=1))"
   ]
  },
  {
   "cell_type": "code",
   "execution_count": 13,
   "metadata": {},
   "outputs": [
    {
     "name": "stdout",
     "output_type": "stream",
     "text": [
      "[4 4 5 5]\n",
      "[7 6 7 7]\n",
      "[5.75 5.   6.   6.  ]\n",
      "[23 20 24 24]\n"
     ]
    }
   ],
   "source": [
    "# we can use the axis arguement and set that equals to 0 for doing statistics function for every row\n",
    "print(np.min(c,axis=0))\n",
    "print(np.max(c,axis=0))\n",
    "print(np.mean(c,axis=0))\n",
    "print(np.sum(c,axis=0))"
   ]
  },
  {
   "cell_type": "code",
   "execution_count": 3,
   "metadata": {},
   "outputs": [
    {
     "name": "stdout",
     "output_type": "stream",
     "text": [
      "[ 6 10 15 21 28 34 41 48 54 60 66 72 76 80 86 91]\n",
      "[[ 6 10 15 21]\n",
      " [ 7 13 20 27]\n",
      " [ 6 12 18 24]\n",
      " [ 4  8 14 19]]\n",
      "[[ 6  4  5  6]\n",
      " [13 10 12 13]\n",
      " [19 16 18 19]\n",
      " [23 20 24 24]]\n"
     ]
    }
   ],
   "source": [
    "# we can print the cumulative sum of the array using cumsum() method.\n",
    "print(np.cumsum(c))\n",
    "# we can also print the cumulative sum along each row and column.\n",
    "print(np.cumsum(c,axis=1))\n",
    "print(np.cumsum(c,axis=0))"
   ]
  },
  {
   "cell_type": "code",
   "execution_count": 58,
   "metadata": {},
   "outputs": [
    {
     "data": {
      "text/plain": [
       "'https://numpy.org/devdocs/reference/routines.statistics.html?highlight=statistics'"
      ]
     },
     "execution_count": 58,
     "metadata": {},
     "output_type": "execute_result"
    }
   ],
   "source": [
    "# thers more statictical functions that we can use in numpy.\n",
    "# to learn more we can go to this following link-\n",
    "\"https://numpy.org/devdocs/reference/routines.statistics.html?highlight=statistics\""
   ]
  },
  {
   "cell_type": "markdown",
   "metadata": {},
   "source": [
    "# Order statistics"
   ]
  },
  {
   "cell_type": "code",
   "execution_count": 21,
   "metadata": {},
   "outputs": [
    {
     "name": "stdout",
     "output_type": "stream",
     "text": [
      "[[6 4 5 6]\n",
      " [7 6 7 7]\n",
      " [6 6 6 6]\n",
      " [4 4 6 5]]\n",
      "4\n",
      "[4 4 5 5]\n",
      "[4 6 6 4]\n",
      "7\n",
      "[7 6 7 7]\n",
      "[6 7 6 6]\n",
      "0.0\n",
      "8.0\n",
      "[3 2 2 2]\n",
      "[4.12 4.   5.06 5.06]\n",
      "[2.   0.12 1.08]\n",
      "[7 6 7 7]\n",
      "[2. 8. 5.]\n"
     ]
    }
   ],
   "source": [
    "print(c)\n",
    "\n",
    "print(np.amin(c))\n",
    "print(np.amin(c,axis=0))\n",
    "print(np.amin(c,axis=1))\n",
    "\n",
    "print(np.amax(c))\n",
    "print(np.amax(c,axis=0))\n",
    "print(np.amax(c,axis=1))\n",
    "\n",
    "k=np.array([[2,3,5],\n",
    "            [np.nan,8,1],\n",
    "            [np.nan,0,np.nan]])\n",
    "\n",
    "print(np.nanmin(k))\n",
    "print(np.nanmax(k))\n",
    "\n",
    "print(np.ptp(c,axis=0)) # max-min\n",
    "\n",
    "print(np.percentile(c,2,axis=0))\n",
    "print(np.nanpercentile(k,2,axis=0))\n",
    "\n",
    "print(np.quantile(c,1,axis=0))\n",
    "print(np.nanquantile(k,1,axis=0))"
   ]
  },
  {
   "cell_type": "markdown",
   "metadata": {},
   "source": [
    "# Averages and variances"
   ]
  },
  {
   "cell_type": "code",
   "execution_count": 29,
   "metadata": {},
   "outputs": [
    {
     "name": "stdout",
     "output_type": "stream",
     "text": [
      "6.0\n",
      "[5.5 7.  6.  4.5]\n",
      "5.6875\n",
      "5.6875\n",
      "0.982264602843857\n",
      "0.96484375\n",
      "2.5\n",
      "3.1666666666666665\n",
      "2.6718699236468995\n",
      "7.138888888888889\n"
     ]
    }
   ],
   "source": [
    "print(np.median(c))\n",
    "print(np.median(c,axis=1))\n",
    "\n",
    "print(np.mean(c))\n",
    "print(np.average(c))\n",
    "\n",
    "print(np.std(c))\n",
    "print(np.var(c))\n",
    "\n",
    "print(np.nanmedian(k))\n",
    "print(np.nanmean(k))\n",
    "print(np.nanstd(k))\n",
    "print(np.nanvar(k))"
   ]
  },
  {
   "cell_type": "markdown",
   "metadata": {},
   "source": [
    "# Correlating"
   ]
  },
  {
   "cell_type": "code",
   "execution_count": 49,
   "metadata": {},
   "outputs": [
    {
     "name": "stdout",
     "output_type": "stream",
     "text": [
      "[[1.         0.87038828        nan 0.09090909]\n",
      " [0.87038828 1.                nan 0.52223297]\n",
      " [       nan        nan        nan        nan]\n",
      " [0.09090909 0.52223297        nan 1.        ]]\n",
      "\n",
      "[3.5]\n",
      "[2.  3.5 3. ]\n",
      "[0.5 2.  3.5 3.  0. ]\n",
      "\n",
      "[[0.91666667 0.41666667 0.         0.08333333]\n",
      " [0.41666667 0.25       0.         0.25      ]\n",
      " [0.         0.         0.         0.        ]\n",
      " [0.08333333 0.25       0.         0.91666667]]\n"
     ]
    }
   ],
   "source": [
    "print(np.corrcoef(c))\n",
    "\n",
    "print()\n",
    "\n",
    "print(np.correlate([1, 2, 3], [0, 1, 0.5]))\n",
    "print(np.correlate([1, 2, 3], [0, 1, 0.5], \"same\"))\n",
    "print(np.correlate([1, 2, 3], [0, 1, 0.5], \"full\"))\n",
    "\n",
    "print()\n",
    "\n",
    "print(np.cov(c))"
   ]
  },
  {
   "cell_type": "markdown",
   "metadata": {},
   "source": [
    "# Histograms"
   ]
  },
  {
   "cell_type": "code",
   "execution_count": 71,
   "metadata": {},
   "outputs": [
    {
     "name": "stdout",
     "output_type": "stream",
     "text": [
      "[3 0 0 2 0 0 8 0 0 3]\n",
      "[4.  4.3 4.6 4.9 5.2 5.5 5.8 6.1 6.4 6.7 7. ]\n",
      "\n",
      "[[10.  4.  0.  0.]\n",
      " [43.  4.  1.  0.]\n",
      " [10.  6.  0.  0.]]\n",
      "\n",
      "(5, 8, 4) 6 9 5\n"
     ]
    }
   ],
   "source": [
    "for array in np.histogram(c):\n",
    "    print(array)\n",
    "\n",
    "print()\n",
    "\n",
    "xedges = [0, 1, 3, 5]\n",
    "yedges = [0, 2, 3, 4, 6]\n",
    "x = np.random.normal(2, 1, 100)\n",
    "y = np.random.normal(1, 1, 100)\n",
    "H, xedges, yedges = np.histogram2d(x, y, bins=(xedges, yedges))\n",
    "print(H)\n",
    "    \n",
    "print()\n",
    "\n",
    "r = np.random.randn(100,3)\n",
    "H, edges = np.histogramdd(r, bins = (5, 8, 4))\n",
    "print(H.shape, edges[0].size, edges[1].size, edges[2].size)"
   ]
  },
  {
   "cell_type": "code",
   "execution_count": 69,
   "metadata": {},
   "outputs": [
    {
     "name": "stdout",
     "output_type": "stream",
     "text": [
      "[1 3 1 1 0 0 0 1]\n",
      "[4.  4.3 4.6 4.9 5.2 5.5 5.8 6.1 6.4 6.7 7. ]\n",
      "[1 4 3 2]\n",
      "0.0 <= 0.2 < 1.0\n",
      "4.0 <= 6.4 < 10.0\n",
      "2.5 <= 3.0 < 4.0\n",
      "1.0 <= 1.6 < 2.5\n"
     ]
    }
   ],
   "source": [
    "print(np.bincount(np.array([0, 1, 1, 3, 2, 1, 7])))\n",
    "print(np.histogram_bin_edges(c))\n",
    "\n",
    "x = np.array([0.2, 6.4, 3.0, 1.6])\n",
    "bins = np.array([0.0, 1.0, 2.5, 4.0, 10.0])\n",
    "inds = np.digitize(x, bins)\n",
    "print(inds)\n",
    "\n",
    "for n in range(x.size):\n",
    "    print(bins[inds[n]-1], \"<=\", x[n], \"<\", bins[inds[n]])"
   ]
  },
  {
   "cell_type": "code",
   "execution_count": null,
   "metadata": {},
   "outputs": [],
   "source": []
  }
 ],
 "metadata": {
  "kernelspec": {
   "display_name": "Python 3",
   "language": "python",
   "name": "python3"
  },
  "language_info": {
   "codemirror_mode": {
    "name": "ipython",
    "version": 3
   },
   "file_extension": ".py",
   "mimetype": "text/x-python",
   "name": "python",
   "nbconvert_exporter": "python",
   "pygments_lexer": "ipython3",
   "version": "3.8.2"
  }
 },
 "nbformat": 4,
 "nbformat_minor": 4
}
