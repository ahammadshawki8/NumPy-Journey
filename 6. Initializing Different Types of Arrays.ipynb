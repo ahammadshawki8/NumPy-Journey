{
 "cells": [
  {
   "cell_type": "code",
   "execution_count": 2,
   "metadata": {},
   "outputs": [
    {
     "data": {
      "text/plain": [
       "array([0., 0., 0., 0., 0.])"
      ]
     },
     "execution_count": 2,
     "metadata": {},
     "output_type": "execute_result"
    }
   ],
   "source": [
    "# module 6\n",
    "\n",
    "import numpy as np\n",
    "# all zeros matrics.\n",
    "# how can we make an array which every value will be 0?\n",
    "# we can do that with np.zero() method.\n",
    "np.zeros(5)"
   ]
  },
  {
   "cell_type": "code",
   "execution_count": 2,
   "metadata": {},
   "outputs": [
    {
     "data": {
      "text/plain": [
       "array([[[0., 0., 0.],\n",
       "        [0., 0., 0.],\n",
       "        [0., 0., 0.]],\n",
       "\n",
       "       [[0., 0., 0.],\n",
       "        [0., 0., 0.],\n",
       "        [0., 0., 0.]]])"
      ]
     },
     "execution_count": 2,
     "metadata": {},
     "output_type": "execute_result"
    }
   ],
   "source": [
    "# we can make 2d or 3d or any d zeros matrics also.\n",
    "# all we have to do is to pass a list of values which will represent the shape of our array instead a value.\n",
    "np.zeros([2,3,3])"
   ]
  },
  {
   "cell_type": "code",
   "execution_count": 14,
   "metadata": {},
   "outputs": [
    {
     "name": "stdout",
     "output_type": "stream",
     "text": [
      "[[1 3 4 2 5 6 7]\n",
      " [4 8 3 5 2 3 7]]\n"
     ]
    },
    {
     "data": {
      "text/plain": [
       "array([[0, 0, 0, 0, 0, 0, 0],\n",
       "       [0, 0, 0, 0, 0, 0, 0]])"
      ]
     },
     "execution_count": 14,
     "metadata": {},
     "output_type": "execute_result"
    }
   ],
   "source": [
    "# we can also use the zeros_like() method\n",
    "# basically, this method allows us to copy any other matrix shape and change all the values as instructed.\n",
    "b=np.array([[1,3,4,2,5,6,7],[4,8,3,5,2,3,7]])\n",
    "print(b)\n",
    "np.zeros_like(b)"
   ]
  },
  {
   "cell_type": "code",
   "execution_count": 3,
   "metadata": {},
   "outputs": [
    {
     "data": {
      "text/plain": [
       "array([[[1., 1., 1.],\n",
       "        [1., 1., 1.],\n",
       "        [1., 1., 1.]],\n",
       "\n",
       "       [[1., 1., 1.],\n",
       "        [1., 1., 1.],\n",
       "        [1., 1., 1.]]])"
      ]
     },
     "execution_count": 3,
     "metadata": {},
     "output_type": "execute_result"
    }
   ],
   "source": [
    "# all ones matrics.\n",
    "# we can do that with np.ones() method.\n",
    "np.ones([2,3,3])"
   ]
  },
  {
   "cell_type": "code",
   "execution_count": 4,
   "metadata": {},
   "outputs": [
    {
     "data": {
      "text/plain": [
       "array([[[1, 1, 1],\n",
       "        [1, 1, 1]],\n",
       "\n",
       "       [[1, 1, 1],\n",
       "        [1, 1, 1]],\n",
       "\n",
       "       [[1, 1, 1],\n",
       "        [1, 1, 1]],\n",
       "\n",
       "       [[1, 1, 1],\n",
       "        [1, 1, 1]]])"
      ]
     },
     "execution_count": 4,
     "metadata": {},
     "output_type": "execute_result"
    }
   ],
   "source": [
    "# we can also specify the datatype here.\n",
    "np.ones([4,2,3], dtype=\"int32\")"
   ]
  },
  {
   "cell_type": "code",
   "execution_count": 12,
   "metadata": {},
   "outputs": [
    {
     "name": "stdout",
     "output_type": "stream",
     "text": [
      "[[1 3 4 2 5 6 7]\n",
      " [4 8 3 5 2 3 7]]\n"
     ]
    },
    {
     "data": {
      "text/plain": [
       "array([[1, 1, 1, 1, 1, 1, 1],\n",
       "       [1, 1, 1, 1, 1, 1, 1]])"
      ]
     },
     "execution_count": 12,
     "metadata": {},
     "output_type": "execute_result"
    }
   ],
   "source": [
    "# we can also use ones_like() method.\n",
    "np.ones_like(b)"
   ]
  },
  {
   "cell_type": "code",
   "execution_count": 2,
   "metadata": {},
   "outputs": [
    {
     "data": {
      "text/plain": [
       "array([[1.96086573e+243, 6.01346953e-154, 2.03721912e+174,\n",
       "        1.06112722e-153, 2.35566768e+251],\n",
       "       [5.22373805e+257, 3.47819991e+069, 1.03542810e+208,\n",
       "        1.06112833e-153, 1.17365078e+214]])"
      ]
     },
     "execution_count": 2,
     "metadata": {},
     "output_type": "execute_result"
    }
   ],
   "source": [
    "# the function empty creates an array whose initial content is random and depends on the state of the memory\n",
    "np.empty([2,5])"
   ]
  },
  {
   "cell_type": "code",
   "execution_count": 13,
   "metadata": {},
   "outputs": [
    {
     "data": {
      "text/plain": [
       "array([[        0,         0,         0,         0,         0,         0,\n",
       "                0],\n",
       "       [        0,         0,         0,         0,         0, 993090402,\n",
       "        879572531]])"
      ]
     },
     "execution_count": 13,
     "metadata": {},
     "output_type": "execute_result"
    }
   ],
   "source": [
    "# we can also use empty_like() method.\n",
    "np.empty_like(b)"
   ]
  },
  {
   "cell_type": "code",
   "execution_count": 10,
   "metadata": {},
   "outputs": [
    {
     "data": {
      "text/plain": [
       "array([[[8, 8, 8],\n",
       "        [8, 8, 8]],\n",
       "\n",
       "       [[8, 8, 8],\n",
       "        [8, 8, 8]],\n",
       "\n",
       "       [[8, 8, 8],\n",
       "        [8, 8, 8]],\n",
       "\n",
       "       [[8, 8, 8],\n",
       "        [8, 8, 8]]])"
      ]
     },
     "execution_count": 10,
     "metadata": {},
     "output_type": "execute_result"
    }
   ],
   "source": [
    "# any other number matrix.\n",
    "# we can do that with np.full() mathod.\n",
    "# it takes 2 parameter.\n",
    "# first arguement is the array shape and the second arguement is the other value.\n",
    "np.full([4,2,3],8,dtype=\"int32\")"
   ]
  },
  {
   "cell_type": "code",
   "execution_count": 11,
   "metadata": {},
   "outputs": [
    {
     "data": {
      "text/plain": [
       "array([[88, 88, 88, 88, 88, 88, 88],\n",
       "       [88, 88, 88, 88, 88, 88, 88]])"
      ]
     },
     "execution_count": 11,
     "metadata": {},
     "output_type": "execute_result"
    }
   ],
   "source": [
    "# any other number\n",
    "# we can also use the np.full_like method()\n",
    "np.full_like(b,88)\n",
    "# it will take two arguement.\n",
    "# the first one is that array that we want to copy.\n",
    "# the second one it the value"
   ]
  },
  {
   "cell_type": "code",
   "execution_count": 7,
   "metadata": {},
   "outputs": [
    {
     "data": {
      "text/plain": [
       "array([[[0.67620657, 0.30938891],\n",
       "        [0.80298031, 0.14683076],\n",
       "        [0.16876821, 0.34455424]],\n",
       "\n",
       "       [[0.31234492, 0.31441356],\n",
       "        [0.18751879, 0.95904596],\n",
       "        [0.91687852, 0.79420473]]])"
      ]
     },
     "execution_count": 7,
     "metadata": {},
     "output_type": "execute_result"
    }
   ],
   "source": [
    "# random decimal numbers\n",
    "# we can do that by using the rand method from the random class of numpy.\n",
    "# this is a little different than what we have done before.\n",
    "# if we want to initialize multidimentional array, then we dont have to pass the list,\n",
    "# instead of that we need to pass the shape without the list.\n",
    "np.random.rand(2,3,2)\n",
    "# it gives us random values from 0 to 1. here 1 is exclusive. "
   ]
  },
  {
   "cell_type": "code",
   "execution_count": 9,
   "metadata": {},
   "outputs": [
    {
     "name": "stdout",
     "output_type": "stream",
     "text": [
      "(2, 7)\n",
      "[[0.62469119 0.4326429  0.73180927 0.69677058 0.56315679 0.60447296\n",
      "  0.87592997]\n",
      " [0.55743121 0.81020532 0.96339933 0.02932299 0.68948531 0.9414909\n",
      "  0.39876376]]\n",
      "\n",
      "[[0.37472636 0.81017813 0.3132756  0.81935684 0.55361182 0.45772341\n",
      "  0.30248903]\n",
      " [0.77382877 0.93499975 0.2030079  0.84975799 0.01142703 0.03797685\n",
      "  0.43357397]]\n"
     ]
    }
   ],
   "source": [
    "# if we want to pass in the shape or the list which represents the shape,\n",
    "# then we can do that by random.random_sample() method.\n",
    "print(b.shape)\n",
    "print(np.random.random_sample(b.shape))\n",
    "print()\n",
    "print(np.random.random_sample((2, 7)))"
   ]
  },
  {
   "cell_type": "code",
   "execution_count": 10,
   "metadata": {},
   "outputs": [
    {
     "data": {
      "text/plain": [
       "array([[[34, 46, 37, 29, 14],\n",
       "        [17,  4,  8, 62, 27],\n",
       "        [16, 39, 25, 64, 56]],\n",
       "\n",
       "       [[49, 94, 15, 68, 13],\n",
       "        [99, 72, 80, 67, 56],\n",
       "        [81, 11, 14, 66,  3]]])"
      ]
     },
     "execution_count": 10,
     "metadata": {},
     "output_type": "execute_result"
    }
   ],
   "source": [
    "# random integer numbers \n",
    "# we can use the randint() method from random library.\n",
    "np.random.randint(100,size=(2,3,5))\n",
    "# this method take two arguemnt, the first one is end value which would be exclusive.\n",
    "# the second one is the size arguement which will be equal to our shape of the array."
   ]
  },
  {
   "cell_type": "code",
   "execution_count": 4,
   "metadata": {},
   "outputs": [
    {
     "data": {
      "text/plain": [
       "array([[[95, 86, 71, 73, 76],\n",
       "        [54, 68, 73, 61, 93],\n",
       "        [64, 79, 96, 79, 65]],\n",
       "\n",
       "       [[51, 59, 93, 89, 67],\n",
       "        [92, 69, 87, 50, 97],\n",
       "        [64, 77, 99, 76, 62]]])"
      ]
     },
     "execution_count": 4,
     "metadata": {},
     "output_type": "execute_result"
    }
   ],
   "source": [
    "# we can also add another arguement as the first guement of the randint() method.\n",
    "# that arguement would be the start value.\n",
    "np.random.randint(50,100,size=(2,3,5))\n",
    "# we can also use negative values for our start and end arguements."
   ]
  },
  {
   "cell_type": "code",
   "execution_count": 64,
   "metadata": {},
   "outputs": [
    {
     "name": "stdout",
     "output_type": "stream",
     "text": [
      "[[-1.68062489 -1.16121878  2.15931303  1.55358664]\n",
      " [ 0.06684849  0.05104871  2.30490394  0.05323694]\n",
      " [ 0.09782335  2.29233956  0.0969062   0.78266329]]\n"
     ]
    }
   ],
   "source": [
    "# if we want to create random decimal values array which doesn't in range of 0 to 1,\n",
    "# then we caan use raandom.randn() function.\n",
    "g=np.random.randn(3,4)\n",
    "print(g)\n",
    "# The main reason in this is an activation function,\n",
    "# especially in our case where we use the sigmoid function."
   ]
  },
  {
   "cell_type": "code",
   "execution_count": 3,
   "metadata": {},
   "outputs": [
    {
     "name": "stdout",
     "output_type": "stream",
     "text": [
      "[1.1874957  3.50975925 3.50207169 1.05464673]\n"
     ]
    }
   ],
   "source": [
    "# we can create an array of random \"normal\" values by random.normal() function.\n",
    "print(np.random.normal(2,1,4))"
   ]
  },
  {
   "cell_type": "code",
   "execution_count": 25,
   "metadata": {},
   "outputs": [
    {
     "data": {
      "text/plain": [
       "array([[1., 0., 0., 0.],\n",
       "       [0., 1., 0., 0.],\n",
       "       [0., 0., 1., 0.],\n",
       "       [0., 0., 0., 1.]])"
      ]
     },
     "execution_count": 25,
     "metadata": {},
     "output_type": "execute_result"
    }
   ],
   "source": [
    "# initializing identity matrix\n",
    "# we can print the iudentity matrix by identity() function.\n",
    "# this will take 1 arguemnt which indicates the shape of our identity matrix as it is a square matrix by nature.\n",
    "np.identity(4)"
   ]
  },
  {
   "cell_type": "code",
   "execution_count": 13,
   "metadata": {},
   "outputs": [
    {
     "data": {
      "text/plain": [
       "array([[3, 2, 4],\n",
       "       [3, 2, 4],\n",
       "       [3, 2, 4],\n",
       "       [2, 3, 5],\n",
       "       [2, 3, 5],\n",
       "       [2, 3, 5]])"
      ]
     },
     "execution_count": 13,
     "metadata": {},
     "output_type": "execute_result"
    }
   ],
   "source": [
    "# repeat the arrays \n",
    "# we can do that with repeat() method.\n",
    "arr=np.array([[3,2,4],[2,3,5]])\n",
    "rep=np.repeat(arr,3, axis=0)\n",
    "# repeat() takes two arguement.\n",
    "# first one is the array.\n",
    "# second one is the how many times we want to repeat the array.\n",
    "# in numpy, it repeats the value by rows automatically.\n",
    "# but we can change it to columns instead by adding an another arguement axis and setting that equal to 0.\n",
    "\n",
    "# remember that,\n",
    "# in numpy-\n",
    "# column axis 0\n",
    "# rows   axis 1\n",
    "# and so on\n",
    "\n",
    "rep"
   ]
  },
  {
   "cell_type": "code",
   "execution_count": 14,
   "metadata": {},
   "outputs": [
    {
     "name": "stdout",
     "output_type": "stream",
     "text": [
      "[1.  1.5 2.  2.5 3. ]\n"
     ]
    }
   ],
   "source": [
    "# we can print out equally spaced values between two certain values with numpy array.\n",
    "# we can do that by linspace() method.\n",
    "d=np.linspace(1,3,5)\n",
    "# it takes 3 arguemnts first one is the start value, secong one is the end value which will be inclusive.\n",
    "# and the last one is how many linspaced values that we want in that array.\n",
    "# this is pretty much the like bins in the histograms which we have seen while working with matplotlib library. \n",
    "print(d)"
   ]
  },
  {
   "cell_type": "code",
   "execution_count": 15,
   "metadata": {},
   "outputs": [
    {
     "name": "stdout",
     "output_type": "stream",
     "text": [
      "[1.00000000e+01 5.62341325e+10 3.16227766e+20 1.77827941e+30\n",
      " 1.00000000e+40]\n"
     ]
    }
   ],
   "source": [
    "# we have another method in numpy that is logspace()\n",
    "# in linspace() the gap between two elements were same.\n",
    "# but in logspace() the spacing between two values depends on the log of those.\n",
    "e=np.logspace(1,40,5)\n",
    "# it takes 3 arguemnts first one is the start value, second one is the end value which will be inclusive.\n",
    "# and the last one is how many logspaced values that we want in that array.\n",
    "print(e)\n",
    "# so it will start from log10(1) and ends to log10(40) and all other numbers are in between of them.\n",
    "# and in this case we will get 5 value in the array."
   ]
  },
  {
   "cell_type": "code",
   "execution_count": 12,
   "metadata": {},
   "outputs": [
    {
     "name": "stdout",
     "output_type": "stream",
     "text": [
      "[[[0 0 0]\n",
      "  [1 1 1]\n",
      "  [2 2 2]]\n",
      "\n",
      " [[0 1 2]\n",
      "  [0 1 2]\n",
      "  [0 1 2]]]\n"
     ]
    }
   ],
   "source": [
    "# indices()\n",
    "# indices() will create a set of arrays (stacked as a one-higher dimensioned array),\n",
    "# one per dimension with each representing variation in that dimension.\n",
    "\n",
    "i=np.indices([3,3])\n",
    "print(i)\n",
    "# absically it gives us a three dimentional array.\n",
    "# here the first value of the list is the number of row and the second value indicates the column in each 2d arrays,\n",
    "# so it will give us the variation of 2d array in this case which is two types stacked in a 3 dimentional array.\n",
    "\n",
    "# This is particularly useful for evaluating functions of multiple dimensions on a regular grid."
   ]
  },
  {
   "cell_type": "code",
   "execution_count": 1,
   "metadata": {},
   "outputs": [],
   "source": [
    "# we can also create arrays with comments.\n",
    "# but for that we have to know working with regex in python.\n",
    "# that i will learn a much moment later."
   ]
  },
  {
   "cell_type": "code",
   "execution_count": 16,
   "metadata": {},
   "outputs": [
    {
     "data": {
      "text/plain": [
       "array([[1., 1., 1., 1., 1.],\n",
       "       [1., 0., 0., 0., 1.],\n",
       "       [1., 0., 9., 0., 1.],\n",
       "       [1., 0., 0., 0., 1.],\n",
       "       [1., 1., 1., 1., 1.]])"
      ]
     },
     "execution_count": 16,
     "metadata": {},
     "output_type": "execute_result"
    }
   ],
   "source": [
    "# challange\n",
    "output=np.ones([5,5])\n",
    "output[1:4,1:4]=np.zeros([3,3])\n",
    "output[2,2]=9\n",
    "output"
   ]
  },
  {
   "cell_type": "code",
   "execution_count": null,
   "metadata": {},
   "outputs": [],
   "source": []
  }
 ],
 "metadata": {
  "kernelspec": {
   "display_name": "Python 3",
   "language": "python",
   "name": "python3"
  },
  "language_info": {
   "codemirror_mode": {
    "name": "ipython",
    "version": 3
   },
   "file_extension": ".py",
   "mimetype": "text/x-python",
   "name": "python",
   "nbconvert_exporter": "python",
   "pygments_lexer": "ipython3",
   "version": "3.8.2"
  }
 },
 "nbformat": 4,
 "nbformat_minor": 4
}
