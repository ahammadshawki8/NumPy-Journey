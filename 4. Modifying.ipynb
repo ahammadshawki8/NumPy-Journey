{
 "cells": [
  {
   "cell_type": "code",
   "execution_count": 2,
   "metadata": {},
   "outputs": [
    {
     "name": "stdout",
     "output_type": "stream",
     "text": [
      "[3 4 5 6 7 2]\n",
      "[ 3  4  5 90  7  2]\n",
      "[ 3  4 76 33  7  2]\n",
      "[ 3  4 76  5  5  2]\n"
     ]
    }
   ],
   "source": [
    "# module 4\n",
    "\n",
    "import numpy as np\n",
    "\n",
    "# modifying a single data in a 1d array is also like a list.\n",
    "# we can modify multiple of values at once by using slicing.\n",
    "a=np.array([3,4,5,6,7,2])\n",
    "print(a)\n",
    "a[3]=90\n",
    "print(a)\n",
    "a[2:4]=[76,33]\n",
    "print(a)\n",
    "a[3:5]=5\n",
    "print(a)"
   ]
  },
  {
   "cell_type": "code",
   "execution_count": 4,
   "metadata": {},
   "outputs": [
    {
     "name": "stdout",
     "output_type": "stream",
     "text": [
      "[[1 3 4 2 5 6 7]\n",
      " [4 8 3 5 2 3 7]]\n",
      "[[ 1  3  4  2  5  6  7]\n",
      " [ 4  8  3  5  2 90  7]]\n"
     ]
    }
   ],
   "source": [
    "# modifying 2D array\n",
    "# changing a single element\n",
    "b=np.array([[1,3,4,2,5,6,7],[4,8,3,5,2,3,7]])\n",
    "print(b)\n",
    "b[1,5]=90\n",
    "print(b)"
   ]
  },
  {
   "cell_type": "code",
   "execution_count": 5,
   "metadata": {},
   "outputs": [
    {
     "name": "stdout",
     "output_type": "stream",
     "text": [
      "[[ 1  3  4  2  5  6  7]\n",
      " [ 4  8  3  5  2 90  7]]\n",
      "[[ 1  3  4 88  5  6  7]\n",
      " [ 4  8  3 34  2 90  7]]\n"
     ]
    }
   ],
   "source": [
    "# chaning a entire column\n",
    "print(b)\n",
    "b[:,3]=[88,34]\n",
    "print(b)"
   ]
  },
  {
   "cell_type": "code",
   "execution_count": 6,
   "metadata": {},
   "outputs": [
    {
     "name": "stdout",
     "output_type": "stream",
     "text": [
      "[[ 1  3  4 88  5  6  7]\n",
      " [ 4  8  3 34  2 90  7]]\n",
      "[[ 1  3  4  9  5  6  7]\n",
      " [ 4  8  3  9  2 90  7]]\n"
     ]
    }
   ],
   "source": [
    "# we can also make all the element of a column a single element.\n",
    "print(b)\n",
    "b[:,3]=9\n",
    "# all we have to do is that we need to just pass a single value instead of a list.\n",
    "print(b)"
   ]
  },
  {
   "cell_type": "code",
   "execution_count": 7,
   "metadata": {},
   "outputs": [
    {
     "name": "stdout",
     "output_type": "stream",
     "text": [
      "[[[1 2 3]\n",
      "  [4 5 6]]\n",
      "\n",
      " [[5 7 4]\n",
      "  [8 3 2]]\n",
      "\n",
      " [[3 4 5]\n",
      "  [8 7 5]]]\n",
      "\n",
      "\n",
      "[[[1 2 3]\n",
      "  [3 5 2]]\n",
      "\n",
      " [[5 7 4]\n",
      "  [6 4 1]]\n",
      "\n",
      " [[3 4 5]\n",
      "  [0 0 1]]]\n"
     ]
    }
   ],
   "source": [
    "# modifying 3d array.\n",
    "# just like other array we have to first select the chunk that we want to modify,\n",
    "# after thate we will set that chunk equal to our desired value.\n",
    "c=np.array([[[1,2,3],[4,5,6]],[[5,7,4],[8,3,2]],[[3,4,5],[8,7,5]]])\n",
    "print(c)\n",
    "c[:,1,:]=[[3,5,2],[6,4,1],[0,0,1]]\n",
    "print(\"\\n\")\n",
    "print(c)"
   ]
  },
  {
   "cell_type": "code",
   "execution_count": null,
   "metadata": {},
   "outputs": [],
   "source": []
  }
 ],
 "metadata": {
  "kernelspec": {
   "display_name": "Python 3",
   "language": "python",
   "name": "python3"
  },
  "language_info": {
   "codemirror_mode": {
    "name": "ipython",
    "version": 3
   },
   "file_extension": ".py",
   "mimetype": "text/x-python",
   "name": "python",
   "nbconvert_exporter": "python",
   "pygments_lexer": "ipython3",
   "version": "3.8.2"
  }
 },
 "nbformat": 4,
 "nbformat_minor": 4
}
