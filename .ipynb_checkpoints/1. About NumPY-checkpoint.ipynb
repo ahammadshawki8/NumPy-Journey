{
 "cells": [
  {
   "cell_type": "code",
   "execution_count": 1,
   "metadata": {},
   "outputs": [],
   "source": [
    "# module 1\n",
    "\n",
    "# numpy is a multidimentional array library. \n",
    "# it provides high-performance multidimentional array object, and tools for working with these arrays. \n",
    "# it is the core library for scientific computing in python.\n",
    "\n",
    "# why we should use numpy over list?\n",
    "# list is very slow like way too slow.\n",
    "# numpy is very fast because numpy is fixed type.\n",
    "    # it uses less memory\n",
    "    # again we dont have to do any checking when iterating through objects.\n",
    "# numpy utilizes contiguous memory.\n",
    "    # SIMD(Single Instruction Multiple Data) vector processing\n",
    "    # Effective cache utilization.\n",
    "\n",
    "# How are list different from numpy?\n",
    "# in list, we can do insertation, deletation, appending, concatenation etc.\n",
    "# in numpy, we can do insertation, deletation, appending, concatenation etc. and lots more\n",
    "\n",
    "# in short, numpy is fast, uses less memory and very convenient than list.\n",
    "\n",
    "# lets see an example."
   ]
  },
  {
   "cell_type": "code",
   "execution_count": 2,
   "metadata": {},
   "outputs": [
    {
     "name": "stdout",
     "output_type": "stream",
     "text": [
      "the size of our list is:  28000\n",
      "the size of our list is:  4000\n"
     ]
    }
   ],
   "source": [
    "# memory test\n",
    "import numpy as np\n",
    "import sys\n",
    "\n",
    "s=range(1000)\n",
    "print(\"the size of our list is: \",sys.getsizeof(5)*len(s))\n",
    "\n",
    "d=np.arange(1000)\n",
    "print(\"the size of our list is: \",d.nbytes)"
   ]
  },
  {
   "cell_type": "code",
   "execution_count": 4,
   "metadata": {},
   "outputs": [
    {
     "name": "stdout",
     "output_type": "stream",
     "text": [
      "1818.4642791748047\n",
      "51.98979377746582\n"
     ]
    }
   ],
   "source": [
    "# speed test\n",
    "import time\n",
    "\n",
    "size=10000000\n",
    "l1=range(size)\n",
    "l2=range(size)\n",
    "n1=np.arange(size)\n",
    "n2=np.arange(size)\n",
    "\n",
    "start1=time.time()\n",
    "list_operation=[(x+y) for x,y in zip(l1,l2)]\n",
    "print((time.time()-start1)*1000)\n",
    "\n",
    "start2=time.time()\n",
    "numpy_array_operation=n1+n2\n",
    "print((time.time()-start2)*1000)"
   ]
  },
  {
   "cell_type": "code",
   "execution_count": 5,
   "metadata": {},
   "outputs": [
    {
     "data": {
      "text/plain": [
       "array([ 4, 12, 10])"
      ]
     },
     "execution_count": 5,
     "metadata": {},
     "output_type": "execute_result"
    }
   ],
   "source": [
    "# operation test\n",
    "a=np.array([1,4,5])\n",
    "b=np.array([4,3,2])\n",
    "a*b"
   ]
  },
  {
   "cell_type": "code",
   "execution_count": 6,
   "metadata": {},
   "outputs": [
    {
     "ename": "TypeError",
     "evalue": "can't multiply sequence by non-int of type 'list'",
     "output_type": "error",
     "traceback": [
      "\u001b[1;31m---------------------------------------------------------------------------\u001b[0m",
      "\u001b[1;31mTypeError\u001b[0m                                 Traceback (most recent call last)",
      "\u001b[1;32m<ipython-input-6-0612af68a517>\u001b[0m in \u001b[0;36m<module>\u001b[1;34m\u001b[0m\n\u001b[0;32m      2\u001b[0m \u001b[0ma\u001b[0m\u001b[1;33m=\u001b[0m\u001b[1;33m[\u001b[0m\u001b[1;36m1\u001b[0m\u001b[1;33m,\u001b[0m\u001b[1;36m4\u001b[0m\u001b[1;33m,\u001b[0m\u001b[1;36m5\u001b[0m\u001b[1;33m]\u001b[0m\u001b[1;33m\u001b[0m\u001b[1;33m\u001b[0m\u001b[0m\n\u001b[0;32m      3\u001b[0m \u001b[0mb\u001b[0m\u001b[1;33m=\u001b[0m\u001b[1;33m[\u001b[0m\u001b[1;36m4\u001b[0m\u001b[1;33m,\u001b[0m\u001b[1;36m3\u001b[0m\u001b[1;33m,\u001b[0m\u001b[1;36m2\u001b[0m\u001b[1;33m]\u001b[0m\u001b[1;33m\u001b[0m\u001b[1;33m\u001b[0m\u001b[0m\n\u001b[1;32m----> 4\u001b[1;33m \u001b[0ma\u001b[0m\u001b[1;33m*\u001b[0m\u001b[0mb\u001b[0m\u001b[1;33m\u001b[0m\u001b[1;33m\u001b[0m\u001b[0m\n\u001b[0m",
      "\u001b[1;31mTypeError\u001b[0m: can't multiply sequence by non-int of type 'list'"
     ]
    }
   ],
   "source": [
    "# we can do this with list.\n",
    "a=[1,4,5]\n",
    "b=[4,3,2]\n",
    "a*b"
   ]
  },
  {
   "cell_type": "code",
   "execution_count": 7,
   "metadata": {},
   "outputs": [
    {
     "data": {
      "text/plain": [
       "'https://numpy.org/'"
      ]
     },
     "execution_count": 7,
     "metadata": {},
     "output_type": "execute_result"
    }
   ],
   "source": [
    "# Applications of numpy\n",
    "    # Mathematics(MATHLAB replacement) N.B. Scipy is more powerful math and sciecnce based library\n",
    "    # plotting(Matplotlib)\n",
    "    # backend(pandas, Connect 4, digital photograpy)\n",
    "    # machine learning\n",
    "\n",
    "# lets stop talking and get into work.\n",
    "# by the way we can learn more about numpy in there official documentation-\n",
    "\"https://numpy.org/\""
   ]
  },
  {
   "cell_type": "code",
   "execution_count": null,
   "metadata": {},
   "outputs": [],
   "source": []
  }
 ],
 "metadata": {
  "kernelspec": {
   "display_name": "Python 3",
   "language": "python",
   "name": "python3"
  },
  "language_info": {
   "codemirror_mode": {
    "name": "ipython",
    "version": 3
   },
   "file_extension": ".py",
   "mimetype": "text/x-python",
   "name": "python",
   "nbconvert_exporter": "python",
   "pygments_lexer": "ipython3",
   "version": "3.8.2"
  }
 },
 "nbformat": 4,
 "nbformat_minor": 4
}
