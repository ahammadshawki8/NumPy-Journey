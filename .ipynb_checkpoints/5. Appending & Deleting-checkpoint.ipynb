{
 "cells": [
  {
   "cell_type": "code",
   "execution_count": 1,
   "metadata": {},
   "outputs": [
    {
     "name": "stdout",
     "output_type": "stream",
     "text": [
      "[1 2 3 4 5 6]\n",
      "[[ 1  2  3  4  5]\n",
      " [ 6  7  8  9 10]\n",
      " [11 12 13 14 15]]\n"
     ]
    }
   ],
   "source": [
    "# module 5\n",
    "import numpy as np\n",
    "\n",
    "# first lets initialize some numpy arrays\n",
    "a=np.array([1,2,3,4,5,6])\n",
    "print(a)\n",
    "b=np.array([[1,2,3,4,5],[6,7,8,9,10],[11,12,13,14,15]])\n",
    "print(b)"
   ]
  },
  {
   "cell_type": "markdown",
   "metadata": {},
   "source": [
    "Adding"
   ]
  },
  {
   "cell_type": "code",
   "execution_count": 2,
   "metadata": {},
   "outputs": [
    {
     "name": "stdout",
     "output_type": "stream",
     "text": [
      "[1 2 3 4 5 6 7]\n"
     ]
    }
   ],
   "source": [
    "# single dimention array.\n",
    "# we can add values in the single dimentional array using append() function.\n",
    "np.append(a,7)\n",
    "# append() takes 3 arguements.\n",
    "# first one is the array.\n",
    "# second one is the value.the value will be added to the end of the array.\n",
    "# third one is the axis, here it is set to 0 by default.\n",
    "\n",
    "# but this wont change our array we have to set our array equal to this modified array.\n",
    "a=np.append(a,7)\n",
    "print(a)"
   ]
  },
  {
   "cell_type": "code",
   "execution_count": 3,
   "metadata": {},
   "outputs": [
    {
     "name": "stdout",
     "output_type": "stream",
     "text": [
      "[[ 1  2  3  4  5]\n",
      " [ 6  7  8  9 10]\n",
      " [11 12 13 14 15]\n",
      " [16 17 18 19 20]]\n"
     ]
    }
   ],
   "source": [
    "# 2D array.\n",
    "\n",
    "# append rows\n",
    "np.append(b,[[16,17,18,19,20]],axis=0)\n",
    "# here incase of we are working with row, so the axis will be 0.\n",
    "# note that here we are working with 2d array, we can only append another 2d array to a existing 2d array.\n",
    "# so we have to use double brackets to tell numpy that it is a 2d array.\n",
    "\n",
    "# but this wont change our array we have to set our array equal to this modified array.\n",
    "b=np.append(b,[[16,17,18,19,20]],axis=0)\n",
    "print(b)"
   ]
  },
  {
   "cell_type": "code",
   "execution_count": 4,
   "metadata": {},
   "outputs": [
    {
     "name": "stdout",
     "output_type": "stream",
     "text": [
      "[[  1   2   3   4   5 100]\n",
      " [  6   7   8   9  10 200]\n",
      " [ 11  12  13  14  15 300]\n",
      " [ 16  17  18  19  20 400]]\n"
     ]
    }
   ],
   "source": [
    "# append columns\n",
    "np.append(b,[[100],[200],[300],[400]],axis=1)\n",
    "# here incase of we are working with column, so the axis will be 1.\n",
    "# note that, here we are a new column and the elements of each column is part of individual rows.\n",
    "# so we have to use individual brackets and after that sorround them with another bracket.\n",
    "\n",
    "b=np.append(b,[[100],[200],[300],[400]],axis=1)\n",
    "print(b)"
   ]
  },
  {
   "cell_type": "markdown",
   "metadata": {},
   "source": [
    "Deleting"
   ]
  },
  {
   "cell_type": "code",
   "execution_count": 5,
   "metadata": {},
   "outputs": [
    {
     "name": "stdout",
     "output_type": "stream",
     "text": [
      "[2 3 4 5 6 7]\n"
     ]
    }
   ],
   "source": [
    "# single dimention array.\n",
    "# we can delete values from the numpy array using delete() function.\n",
    "np.delete(a,0)\n",
    "# delete() takes 3 arguements.\n",
    "# first one is the array.\n",
    "# second one is the index.\n",
    "# third one is the axis, here it is set to 0 by default.\n",
    "\n",
    "# but this wont change our array we have to set our array equal to this modified array.\n",
    "a=np.delete(a,0)\n",
    "print(a)"
   ]
  },
  {
   "cell_type": "code",
   "execution_count": 6,
   "metadata": {},
   "outputs": [
    {
     "name": "stdout",
     "output_type": "stream",
     "text": [
      "[[  6   7   8   9  10 200]\n",
      " [ 11  12  13  14  15 300]\n",
      " [ 16  17  18  19  20 400]]\n"
     ]
    }
   ],
   "source": [
    "# 2D array.\n",
    "\n",
    "# delete rows\n",
    "np.delete(b,0,axis=0)\n",
    "# here incase of we are working with row, so the axis will be 0.\n",
    "\n",
    "# but this wont change our array we have to set our array equal to this modified array.\n",
    "b=np.delete(b,0,axis=0)\n",
    "print(b)"
   ]
  },
  {
   "cell_type": "code",
   "execution_count": 7,
   "metadata": {},
   "outputs": [
    {
     "name": "stdout",
     "output_type": "stream",
     "text": [
      "[[ 6  7  8  9 10]\n",
      " [11 12 13 14 15]\n",
      " [16 17 18 19 20]]\n"
     ]
    }
   ],
   "source": [
    "# delete columns\n",
    "# it is pretty simmilar with deleting rows.\n",
    "# the difference is that here we have to set the axis equal to 1 as it represents the column .\n",
    "b=np.delete(b,5,axis=1)\n",
    "print(b)"
   ]
  },
  {
   "cell_type": "code",
   "execution_count": 8,
   "metadata": {},
   "outputs": [],
   "source": [
    "# after running the append() and delete() methods in 2d array,\n",
    "# now we have know that it will be more difficult to work with 3d arrays.\n",
    "# but still we can do that. it would be one of my off day course."
   ]
  },
  {
   "cell_type": "code",
   "execution_count": null,
   "metadata": {},
   "outputs": [],
   "source": []
  }
 ],
 "metadata": {
  "kernelspec": {
   "display_name": "Python 3",
   "language": "python",
   "name": "python3"
  },
  "language_info": {
   "codemirror_mode": {
    "name": "ipython",
    "version": 3
   },
   "file_extension": ".py",
   "mimetype": "text/x-python",
   "name": "python",
   "nbconvert_exporter": "python",
   "pygments_lexer": "ipython3",
   "version": "3.8.2"
  }
 },
 "nbformat": 4,
 "nbformat_minor": 4
}
