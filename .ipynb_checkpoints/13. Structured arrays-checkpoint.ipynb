{
 "cells": [
  {
   "cell_type": "code",
   "execution_count": 9,
   "metadata": {},
   "outputs": [],
   "source": [
    "# module 13\n",
    "import numpy as np"
   ]
  },
  {
   "cell_type": "code",
   "execution_count": 10,
   "metadata": {},
   "outputs": [
    {
     "name": "stdout",
     "output_type": "stream",
     "text": [
      "[('Rex', 15, 61.3) ('Max', 31, 66. ) ('Jaz', 12, 42.5)]\n"
     ]
    }
   ],
   "source": [
    "# in numpy documentation, we can see that\n",
    "# Structured arrays are ndarrays whose datatype is a composition \n",
    "# of simpler datatypes organized as a sequence of named fields. \n",
    "\n",
    "# it means structured array are special kind of ndarrays which elements are tuple \n",
    "# and we can change the datatype of each element of the tuple and can name the fields too.\n",
    "# lets see an example-\n",
    "x=np.array([(\"Rex\", 15, 61.3),\n",
    "            (\"Max\", 31, 66.0),\n",
    "            (\"Jaz\", 12, 42.5)], dtype=[(\"name\",\"|U5\"),(\"age\",\"int\"),(\"weight\",\"float\")])\n",
    "print(x)"
   ]
  },
  {
   "cell_type": "code",
   "execution_count": 11,
   "metadata": {},
   "outputs": [
    {
     "data": {
      "text/plain": [
       "('Jaz', 12, 42.5)"
      ]
     },
     "execution_count": 11,
     "metadata": {},
     "output_type": "execute_result"
    }
   ],
   "source": [
    "# we can see that it gives us an 1d array.\n",
    "# here each tuples called a \"structure\".\n",
    "# if we index the array we will get an structure.\n",
    "x[2]"
   ]
  },
  {
   "cell_type": "code",
   "execution_count": 15,
   "metadata": {},
   "outputs": [],
   "source": [
    "# creating dtypes for structured arrays.\n",
    "\n",
    "# when we created out structured array we set our datatype arguement like this.\n",
    "# dtype=[(\"name\",\"|U5\"),(\"age\",\"int\"),(\"weight\",\"float\")]\n",
    "\n",
    "# actually the generalise form is\n",
    "# dtype=[(FieldName,DataType,shape)]\n",
    "# here shape is optional. it indicates the sub array shape if we have one in our array.\n",
    "# field names are generally string, or tuples if titles are used."
   ]
  },
  {
   "cell_type": "code",
   "execution_count": 20,
   "metadata": {},
   "outputs": [
    {
     "name": "stdout",
     "output_type": "stream",
     "text": [
      "('name', 'age', 'weight')\n",
      "{'name': (dtype('<U5'), 0), 'age': (dtype('int32'), 20), 'weight': (dtype('float64'), 24)}\n"
     ]
    }
   ],
   "source": [
    "# we can see all our columns name by names attribute of dtype attribute.\n",
    "print(x.dtype.names)\n",
    "\n",
    "# if we want to see the field names as keys and datatypes and byte offsets as values of a dictionary,\n",
    "# we can use the fields attribute instead.\n",
    "print(x.dtype.fields)"
   ]
  },
  {
   "cell_type": "code",
   "execution_count": 21,
   "metadata": {},
   "outputs": [
    {
     "name": "stdout",
     "output_type": "stream",
     "text": [
      "[20 32 12]\n",
      "[15 32 12]\n",
      "[20 32 12]\n"
     ]
    }
   ],
   "source": [
    "# You can access and modify individual fields of a structured array by indexing with the field name.\n",
    "print(x[\"age\"])\n",
    "\n",
    "# modifying the structured arrays.\n",
    "x[\"age\"]=[15,32,12]\n",
    "print(x[\"age\"])\n",
    "\n",
    "# we can also grab single elements and modify them too.\n",
    "x[\"age\"][0]=20\n",
    "print(x[\"age\"])"
   ]
  },
  {
   "cell_type": "code",
   "execution_count": 39,
   "metadata": {},
   "outputs": [
    {
     "name": "stdout",
     "output_type": "stream",
     "text": [
      "Rex\n",
      "[('Max', 32, 66. ) ('Jaz', 12, 42.5)]\n",
      "[('Rex', 20, 61.3) ('Jaz', 12, 42.5)]\n"
     ]
    }
   ],
   "source": [
    "# we can also see the elements by general indexing.\n",
    "print(x[0][0])\n",
    "# here whats going on is that we are first grabbing a structure by x[0],\n",
    "# and then grabbing the first value of that structure.\n",
    "\n",
    "# accessing multiple structures.\n",
    "print(x[1:])\n",
    "print(x[[0,2]])"
   ]
  },
  {
   "cell_type": "code",
   "execution_count": null,
   "metadata": {},
   "outputs": [],
   "source": [
    "# structured arrays are useful when we are working with different fields.\n",
    "# and we want to grab the values by field names and modify them."
   ]
  }
 ],
 "metadata": {
  "kernelspec": {
   "display_name": "Python 3.8.2 64-bit",
   "language": "python",
   "name": "python38264bit9aed414d9b2c4aafacf2c3038ae0f19f"
  },
  "language_info": {
   "codemirror_mode": {
    "name": "ipython",
    "version": 3
   },
   "file_extension": ".py",
   "mimetype": "text/x-python",
   "name": "python",
   "nbconvert_exporter": "python",
   "pygments_lexer": "ipython3",
   "version": "3.8.2"
  }
 },
 "nbformat": 4,
 "nbformat_minor": 4
}
