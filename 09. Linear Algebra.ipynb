{
 "cells": [
  {
   "cell_type": "code",
   "execution_count": 2,
   "metadata": {},
   "outputs": [
    {
     "name": "stdout",
     "output_type": "stream",
     "text": [
      "[[1. 1. 1.]\n",
      " [1. 1. 1.]]\n",
      "[[2 2 2 2 2]\n",
      " [2 2 2 2 2]\n",
      " [2 2 2 2 2]]\n"
     ]
    }
   ],
   "source": [
    "# module 9\n",
    "\n",
    "import numpy as np\n",
    "# all we have done here that was element-wise arithmatic.\n",
    "# but linear algebra is pretty difference.\n",
    "\n",
    "# first lets take two arrays of different shape.\n",
    "a=np.ones([2,3])\n",
    "print(a)\n",
    "b=np.full([3,5],2)\n",
    "print(b)"
   ]
  },
  {
   "cell_type": "code",
   "execution_count": 5,
   "metadata": {},
   "outputs": [
    {
     "ename": "ValueError",
     "evalue": "operands could not be broadcast together with shapes (2,3) (3,5) ",
     "output_type": "error",
     "traceback": [
      "\u001b[1;31m---------------------------------------------------------------------------\u001b[0m",
      "\u001b[1;31mValueError\u001b[0m                                Traceback (most recent call last)",
      "\u001b[1;32m<ipython-input-5-da2bf2e2c2bd>\u001b[0m in \u001b[0;36m<module>\u001b[1;34m\u001b[0m\n\u001b[0;32m      1\u001b[0m \u001b[1;31m# now if we try to multiply them then it will give us an error as they are not same shape.\u001b[0m\u001b[1;33m\u001b[0m\u001b[1;33m\u001b[0m\u001b[1;33m\u001b[0m\u001b[0m\n\u001b[1;32m----> 2\u001b[1;33m \u001b[0ma\u001b[0m\u001b[1;33m*\u001b[0m\u001b[0mb\u001b[0m\u001b[1;33m\u001b[0m\u001b[1;33m\u001b[0m\u001b[0m\n\u001b[0m\u001b[0;32m      3\u001b[0m \u001b[1;31m# ValueError: operands could not be broadcast together with shapes (2,3) (3,5)\u001b[0m\u001b[1;33m\u001b[0m\u001b[1;33m\u001b[0m\u001b[1;33m\u001b[0m\u001b[0m\n",
      "\u001b[1;31mValueError\u001b[0m: operands could not be broadcast together with shapes (2,3) (3,5) "
     ]
    }
   ],
   "source": [
    "# now if we try to multiply them then it will give us an error as they are not same shape.\n",
    "a*b\n",
    "# ValueError: operands could not be broadcast together with shapes (2,3) (3,5) "
   ]
  },
  {
   "cell_type": "code",
   "execution_count": 3,
   "metadata": {},
   "outputs": [
    {
     "name": "stdout",
     "output_type": "stream",
     "text": [
      "[[6. 6. 6. 6. 6.]\n",
      " [6. 6. 6. 6. 6.]]\n",
      "[[6. 6. 6. 6. 6.]\n",
      " [6. 6. 6. 6. 6.]]\n",
      "[[6. 6. 6. 6. 6.]\n",
      " [6. 6. 6. 6. 6.]]\n"
     ]
    }
   ],
   "source": [
    "# but in matrix we can multiply them.\n",
    "# we can do that with matmul() method. matmul refers to matrix multiply.\n",
    "print(np.matmul(a,b))\n",
    "# we can also use the @ sign or dot() method.\n",
    "print(a @ b)\n",
    "print(a.dot(b))"
   ]
  },
  {
   "cell_type": "code",
   "execution_count": 7,
   "metadata": {},
   "outputs": [
    {
     "name": "stdout",
     "output_type": "stream",
     "text": [
      "[[4 4 6 7]\n",
      " [7 4 5 4]\n",
      " [4 5 4 7]\n",
      " [6 4 6 5]]\n",
      "-22.000000000000014\n"
     ]
    }
   ],
   "source": [
    "# find the determinent\n",
    "c=np.random.randint(4,8,size=[4,4])\n",
    "print(c)\n",
    "# we can find the determinent using det() function from linalg class which just stands for linear algebra.\n",
    "print(np.linalg.det(c))"
   ]
  },
  {
   "cell_type": "code",
   "execution_count": 9,
   "metadata": {},
   "outputs": [
    {
     "name": "stdout",
     "output_type": "stream",
     "text": [
      "[[7 5 7 4]\n",
      " [4 5 7 7]\n",
      " [7 7 5 4]\n",
      " [7 5 6 6]]\n",
      "\n",
      "[[ 0.02380952 -0.26666667 -0.07142857  0.34285714]\n",
      " [-0.11904762  0.13333333  0.35714286 -0.31428571]\n",
      " [ 0.38095238  0.13333333 -0.14285714 -0.31428571]\n",
      " [-0.30952381  0.06666667 -0.07142857  0.34285714]]\n"
     ]
    }
   ],
   "source": [
    "# find the inverse of the matrix.\n",
    "# we can use the inv() method from linalg class.\n",
    "print(c)\n",
    "print()\n",
    "i=np.linalg.inv(c)\n",
    "print(i)"
   ]
  },
  {
   "cell_type": "code",
   "execution_count": 3,
   "metadata": {},
   "outputs": [
    {
     "name": "stdout",
     "output_type": "stream",
     "text": [
      "[[1 9]\n",
      " [2 8]\n",
      " [3 7]\n",
      " [4 6]]\n"
     ]
    }
   ],
   "source": [
    "# we can see the transpose matrix by transpose() function.\n",
    "k=np.array([[1,2,3,4],\n",
    "            [9,8,7,6]])\n",
    "k_t=np.transpose(k)\n",
    "print(k_t)"
   ]
  },
  {
   "cell_type": "code",
   "execution_count": 10,
   "metadata": {},
   "outputs": [
    {
     "name": "stdout",
     "output_type": "stream",
     "text": [
      "[7 5 5 6]\n"
     ]
    }
   ],
   "source": [
    "# Diagonal elements\n",
    "# there a concept of digonal elements in matrix.\n",
    "# we can print the digonal elements by diagonal() function.\n",
    "print(np.diagonal(c))"
   ]
  },
  {
   "cell_type": "code",
   "execution_count": 5,
   "metadata": {},
   "outputs": [
    {
     "name": "stdout",
     "output_type": "stream",
     "text": [
      "[[1. 0. 0. 0.]\n",
      " [0. 1. 0. 0.]\n",
      " [0. 0. 1. 0.]\n",
      " [0. 0. 0. 1.]]\n",
      "\n",
      "[[1. 0. 0. 0.]\n",
      " [0. 1. 0. 0.]\n",
      " [0. 0. 1. 0.]\n",
      " [0. 0. 0. 1.]]\n"
     ]
    }
   ],
   "source": [
    "# identity matrix\n",
    "# we can see the identity matrix by identity() function.\n",
    "print(np.identity(4))\n",
    "print()\n",
    "\n",
    "# we can also use the eye() function.\n",
    "print(np.eye(4))"
   ]
  },
  {
   "cell_type": "code",
   "execution_count": 9,
   "metadata": {},
   "outputs": [
    {
     "name": "stdout",
     "output_type": "stream",
     "text": [
      "17\n"
     ]
    }
   ],
   "source": [
    "# trace()\n",
    "# we can find the trace of a matrix using trace() function.\n",
    "print(np.trace(c))"
   ]
  },
  {
   "cell_type": "code",
   "execution_count": 11,
   "metadata": {},
   "outputs": [
    {
     "name": "stdout",
     "output_type": "stream",
     "text": [
      "[[7 5 7 4]\n",
      " [4 5 7 7]\n",
      " [7 7 5 4]\n",
      " [7 5 6 6]]\n",
      "[[1 2 3]\n",
      " [4 5 6]\n",
      " [7 8 9]]\n",
      "<class 'numpy.ndarray'>\n",
      "<class 'numpy.matrix'>\n",
      "['A', 'A1', 'H', 'I', 'T', '__abs__', '__add__', '__and__', '__array__', '__array_finalize__', '__array_function__', '__array_interface__', '__array_prepare__', '__array_priority__', '__array_struct__', '__array_ufunc__', '__array_wrap__', '__bool__', '__class__', '__complex__', '__contains__', '__copy__', '__deepcopy__', '__delattr__', '__delitem__', '__dict__', '__dir__', '__divmod__', '__doc__', '__eq__', '__float__', '__floordiv__', '__format__', '__ge__', '__getattribute__', '__getitem__', '__gt__', '__hash__', '__iadd__', '__iand__', '__ifloordiv__', '__ilshift__', '__imatmul__', '__imod__', '__imul__', '__index__', '__init__', '__init_subclass__', '__int__', '__invert__', '__ior__', '__ipow__', '__irshift__', '__isub__', '__iter__', '__itruediv__', '__ixor__', '__le__', '__len__', '__lshift__', '__lt__', '__matmul__', '__mod__', '__module__', '__mul__', '__ne__', '__neg__', '__new__', '__or__', '__pos__', '__pow__', '__radd__', '__rand__', '__rdivmod__', '__reduce__', '__reduce_ex__', '__repr__', '__rfloordiv__', '__rlshift__', '__rmatmul__', '__rmod__', '__rmul__', '__ror__', '__rpow__', '__rrshift__', '__rshift__', '__rsub__', '__rtruediv__', '__rxor__', '__setattr__', '__setitem__', '__setstate__', '__sizeof__', '__str__', '__sub__', '__subclasshook__', '__truediv__', '__xor__', '_align', '_collapse', '_getitem', 'all', 'any', 'argmax', 'argmin', 'argpartition', 'argsort', 'astype', 'base', 'byteswap', 'choose', 'clip', 'compress', 'conj', 'conjugate', 'copy', 'ctypes', 'cumprod', 'cumsum', 'data', 'diagonal', 'dot', 'dtype', 'dump', 'dumps', 'fill', 'flags', 'flat', 'flatten', 'getA', 'getA1', 'getH', 'getI', 'getT', 'getfield', 'imag', 'item', 'itemset', 'itemsize', 'max', 'mean', 'min', 'nbytes', 'ndim', 'newbyteorder', 'nonzero', 'partition', 'prod', 'ptp', 'put', 'ravel', 'real', 'repeat', 'reshape', 'resize', 'round', 'searchsorted', 'setfield', 'setflags', 'shape', 'size', 'sort', 'squeeze', 'std', 'strides', 'sum', 'swapaxes', 'take', 'tobytes', 'tofile', 'tolist', 'tostring', 'trace', 'transpose', 'var', 'view']\n",
      "[[1. 1. 1.]\n",
      " [1. 1. 1.]]\n",
      "[[2 2 2 2 2]\n",
      " [2 2 2 2 2]\n",
      " [2 2 2 2 2]]\n",
      "[[6. 6. 6. 6. 6.]\n",
      " [6. 6. 6. 6. 6.]]\n"
     ]
    }
   ],
   "source": [
    "# we can convert the numpy arrays to matrix and can do more operations with them.\n",
    "# we can convert numpy array to matrix by matrix() function.\n",
    "mat1=np.matrix(c)\n",
    "print(mat1)\n",
    "# we can also create matrix with string without arrays.\n",
    "mat2=np.matrix(\"1,2,3;4,5,6;7,8,9\")\n",
    "print(mat2)\n",
    "# matrix and array look same. but they are different type. we can see that with type() method.\n",
    "print(type(c))\n",
    "print(type(mat1))\n",
    "\n",
    "# operations of matrix\n",
    "# first lets see all the functions that we can do with matrix.\n",
    "print(dir(mat1))\n",
    "# lets explore some of them.\n",
    "\n",
    "# for matrix multiplication we need not use the matmul() method anymore.\n",
    "# we can easily multiply two matrix.\n",
    "print(a)\n",
    "print(b)\n",
    "mat_a=np.matrix(a)\n",
    "mat_b=np.matrix(b)\n",
    "print(mat_a*mat_b)"
   ]
  },
  {
   "cell_type": "code",
   "execution_count": 12,
   "metadata": {},
   "outputs": [
    {
     "data": {
      "text/plain": [
       "'https://docs.scipy.org/doc/numpy/reference/routines.linalg.html'"
      ]
     },
     "execution_count": 12,
     "metadata": {},
     "output_type": "execute_result"
    }
   ],
   "source": [
    "# we can find more information about linear algebra in this location.\n",
    "\"https://docs.scipy.org/doc/numpy/reference/routines.linalg.html\""
   ]
  },
  {
   "cell_type": "code",
   "execution_count": 1,
   "metadata": {},
   "outputs": [],
   "source": [
    "# lets discover some functions of linalg class of numpy."
   ]
  },
  {
   "cell_type": "markdown",
   "metadata": {},
   "source": [
    "# matrix and vector products"
   ]
  },
  {
   "cell_type": "code",
   "execution_count": 92,
   "metadata": {},
   "outputs": [
    {
     "name": "stdout",
     "output_type": "stream",
     "text": [
      "55\n",
      "[[386 718 385]\n",
      " [574 912 461]]\n",
      "55\n",
      "55\n",
      "[[32 20  4  0 20 12 36 32 20]\n",
      " [64 40  8  0 40 24 72 64 40]\n",
      " [ 8  5  1  0  5  3  9  8  5]\n",
      " [40 25  5  0 25 15 45 40 25]\n",
      " [40 25  5  0 25 15 45 40 25]\n",
      " [24 15  3  0 15  9 27 24 15]]\n",
      "[[41 68 33]\n",
      " [67 74 35]]\n",
      "60\n",
      "[[[[32 20  4]\n",
      "   [ 0 20 12]\n",
      "   [36 32 20]]\n",
      "\n",
      "  [[64 40  8]\n",
      "   [ 0 40 24]\n",
      "   [72 64 40]]\n",
      "\n",
      "  [[ 8  5  1]\n",
      "   [ 0  5  3]\n",
      "   [ 9  8  5]]]\n",
      "\n",
      "\n",
      " [[[40 25  5]\n",
      "   [ 0 25 15]\n",
      "   [45 40 25]]\n",
      "\n",
      "  [[40 25  5]\n",
      "   [ 0 25 15]\n",
      "   [45 40 25]]\n",
      "\n",
      "  [[24 15  3]\n",
      "   [ 0 15  9]\n",
      "   [27 24 15]]]]\n",
      "[[10576 12406  5858]\n",
      " [ 6804  8122  3966]\n",
      " [18702 21916 10390]]\n",
      "[[32 20  4 64 40  8  8  5  1]\n",
      " [ 0 20 12  0 40 24  0  5  3]\n",
      " [36 32 20 72 64 40  9  8  5]\n",
      " [40 25  5 40 25  5 24 15  3]\n",
      " [ 0 25 15  0 25 15  0 15  9]\n",
      " [45 40 25 45 40 25 27 24 15]]\n"
     ]
    }
   ],
   "source": [
    "a=np.array([2,3,3,5,2])\n",
    "b=np.array([7,8,1,2,2])\n",
    "\n",
    "c=np.array([[4,8,1],\n",
    "            [5,5,3]])\n",
    "\n",
    "d=np.array([[8,5,1],\n",
    "            [0,5,3],\n",
    "            [9,8,5]])\n",
    "\n",
    "e=np.array([[7,6,2],\n",
    "           [0,5,3],\n",
    "           [3,4,3]])\n",
    "\n",
    "f = np.arange(25).reshape(5,5)\n",
    "\n",
    "print(np.dot(a,b))\n",
    "print(np.linalg.multi_dot([c,d,e]))\n",
    "print(np.vdot(a,b))\n",
    "print(np.inner(a,b))\n",
    "print(np.outer(c,d))\n",
    "print(np.matmul(c,d))\n",
    "print(np.einsum(f,[0,0]))\n",
    "print(np.tensordot(c,d,axes=0))\n",
    "print(np.linalg.matrix_power(d,4))\n",
    "print(np.kron(c,d))"
   ]
  },
  {
   "cell_type": "markdown",
   "metadata": {},
   "source": [
    "# Decompositions"
   ]
  },
  {
   "cell_type": "code",
   "execution_count": 85,
   "metadata": {},
   "outputs": [
    {
     "name": "stdout",
     "output_type": "stream",
     "text": [
      "[[1.+0.j 0.+0.j]\n",
      " [0.+2.j 1.+0.j]]\n",
      "[[-0.66436384  0.22492797 -0.7127609 ]\n",
      " [-0.         -0.95364197 -0.30094349]\n",
      " [-0.74740932 -0.19993597  0.63356524]]\n",
      "[[-12.04159458  -9.30109374  -4.40141043]\n",
      " [  0.          -5.24305781  -3.63567782]\n",
      " [  0.           0.           1.55223485]]\n",
      "[[-0.55577381  0.51540325 -0.65228442]\n",
      " [-0.25117551 -0.85205981 -0.45924388]\n",
      " [-0.79248113 -0.09139785  0.6030092 ]]\n",
      "[16.41600614  4.79194492  1.24579549]\n",
      "[[-0.70531898 -0.63198049 -0.32113207]\n",
      " [ 0.68879033 -0.50385923 -0.52124252]\n",
      " [ 0.16760975 -0.5888349   0.79068352]]\n"
     ]
    }
   ],
   "source": [
    "m = np.array([[1,-2j],[2j,5]])\n",
    "print(np.linalg.cholesky(m))\n",
    "\n",
    "for array in np.linalg.qr(d):\n",
    "    print(array)\n",
    "    \n",
    "for array in np.linalg.svd(d):\n",
    "    print(array)"
   ]
  },
  {
   "cell_type": "markdown",
   "metadata": {},
   "source": [
    "# Matrix eigenvalues"
   ]
  },
  {
   "cell_type": "code",
   "execution_count": 50,
   "metadata": {},
   "outputs": [
    {
     "name": "stdout",
     "output_type": "stream",
     "text": [
      "[ 2.46883701+1.18631197j  2.46883701-1.18631197j 13.06232597+0.j        ]\n",
      "[[-0.4530326 -0.14318987j -0.4530326 +0.14318987j -0.46800581+0.j        ]\n",
      " [ 0.64376453+0.j          0.64376453-0.j         -0.30819068+0.j        ]\n",
      " [-0.54315765+0.25456852j -0.54315765-0.25456852j -0.82824457+0.j        ]]\n",
      "[-6.31479361  6.30424434 18.01054927]\n",
      "[[ 0.45669964  0.64940752 -0.60802575]\n",
      " [ 0.51359006 -0.75053181 -0.41584523]\n",
      " [-0.72639568 -0.12235961 -0.67629686]]\n",
      "[ 2.46883701+1.18631197j  2.46883701-1.18631197j 13.06232597+0.j        ]\n",
      "[-6.31479361  6.30424434 18.01054927]\n"
     ]
    }
   ],
   "source": [
    "for array in np.linalg.eig(d):\n",
    "    print(array)\n",
    "for array in np.linalg.eigh(d):\n",
    "    print(array)\n",
    "print(np.linalg.eigvals(d))\n",
    "print(np.linalg.eigvalsh(d))"
   ]
  },
  {
   "cell_type": "markdown",
   "metadata": {},
   "source": [
    "# Norms and other numbers"
   ]
  },
  {
   "cell_type": "code",
   "execution_count": 59,
   "metadata": {},
   "outputs": [
    {
     "name": "stdout",
     "output_type": "stream",
     "text": [
      "11.832159566199232\n",
      "4.706632448592814\n",
      "98.00000000000004\n",
      "3\n",
      "(1.0, 4.584967478670572)\n",
      "18\n"
     ]
    }
   ],
   "source": [
    "print(np.linalg.norm(c))\n",
    "print(np.linalg.cond(c))\n",
    "print(np.linalg.det(d))\n",
    "print(np.linalg.matrix_rank(d))\n",
    "print(np.linalg.slogdet(d))\n",
    "print(np.trace(d))"
   ]
  },
  {
   "cell_type": "markdown",
   "metadata": {},
   "source": [
    "# Solving equations and inverting matrices"
   ]
  },
  {
   "cell_type": "code",
   "execution_count": 88,
   "metadata": {},
   "outputs": [
    {
     "name": "stdout",
     "output_type": "stream",
     "text": [
      "[[8 5 1]\n",
      " [0 5 3]\n",
      " [9 8 5]]\n",
      "[[ 0.7244898   0.54081633 -0.6122449 ]\n",
      " [-1.43877551 -0.39795918  1.46938776]\n",
      " [ 2.39795918  0.66326531 -0.44897959]]\n",
      "[[-0.96026353  0.08762613  0.74009123]\n",
      " [-0.29189608  0.32065758 -0.56486416]\n",
      " [ 1.55423919 -1.09498683 -1.52618322]\n",
      " [ 0.41757628 -0.27375958  0.45805361]\n",
      " [-1.54515842 -0.319086   -0.49934378]\n",
      " [ 2.10612596  0.54537257 -1.01109305]\n",
      " [-0.10781215  1.51002074  0.53112812]\n",
      " [ 0.37998293  2.75554351 -0.18416336]]\n",
      "[[ 0.7244898   0.54081633 -0.6122449 ]\n",
      " [-1.43877551 -0.39795918  1.46938776]\n",
      " [ 2.39795918  0.66326531 -0.44897959]]\n",
      "[]\n",
      "3\n",
      "[16.41600614  4.79194492  1.24579549]\n",
      "[[ 0.01020408 -0.17346939  0.10204082]\n",
      " [ 0.2755102   0.31632653 -0.24489796]\n",
      " [-0.45918367 -0.19387755  0.40816327]]\n",
      "[[[[1. 0. 0. 0. 0. 0.]\n",
      "   [0. 0. 0. 0. 0. 0.]\n",
      "   [0. 0. 0. 0. 0. 0.]\n",
      "   [0. 0. 0. 0. 0. 0.]]\n",
      "\n",
      "  [[0. 1. 0. 0. 0. 0.]\n",
      "   [0. 0. 0. 0. 0. 0.]\n",
      "   [0. 0. 0. 0. 0. 0.]\n",
      "   [0. 0. 0. 0. 0. 0.]]\n",
      "\n",
      "  [[0. 0. 1. 0. 0. 0.]\n",
      "   [0. 0. 0. 0. 0. 0.]\n",
      "   [0. 0. 0. 0. 0. 0.]\n",
      "   [0. 0. 0. 0. 0. 0.]]]\n",
      "\n",
      "\n",
      " [[[0. 0. 0. 1. 0. 0.]\n",
      "   [0. 0. 0. 0. 0. 0.]\n",
      "   [0. 0. 0. 0. 0. 0.]\n",
      "   [0. 0. 0. 0. 0. 0.]]\n",
      "\n",
      "  [[0. 0. 0. 0. 1. 0.]\n",
      "   [0. 0. 0. 0. 0. 0.]\n",
      "   [0. 0. 0. 0. 0. 0.]\n",
      "   [0. 0. 0. 0. 0. 0.]]\n",
      "\n",
      "  [[0. 0. 0. 0. 0. 1.]\n",
      "   [0. 0. 0. 0. 0. 0.]\n",
      "   [0. 0. 0. 0. 0. 0.]\n",
      "   [0. 0. 0. 0. 0. 0.]]]\n",
      "\n",
      "\n",
      " [[[0. 0. 0. 0. 0. 0.]\n",
      "   [1. 0. 0. 0. 0. 0.]\n",
      "   [0. 0. 0. 0. 0. 0.]\n",
      "   [0. 0. 0. 0. 0. 0.]]\n",
      "\n",
      "  [[0. 0. 0. 0. 0. 0.]\n",
      "   [0. 1. 0. 0. 0. 0.]\n",
      "   [0. 0. 0. 0. 0. 0.]\n",
      "   [0. 0. 0. 0. 0. 0.]]\n",
      "\n",
      "  [[0. 0. 0. 0. 0. 0.]\n",
      "   [0. 0. 1. 0. 0. 0.]\n",
      "   [0. 0. 0. 0. 0. 0.]\n",
      "   [0. 0. 0. 0. 0. 0.]]]\n",
      "\n",
      "\n",
      " [[[0. 0. 0. 0. 0. 0.]\n",
      "   [0. 0. 0. 1. 0. 0.]\n",
      "   [0. 0. 0. 0. 0. 0.]\n",
      "   [0. 0. 0. 0. 0. 0.]]\n",
      "\n",
      "  [[0. 0. 0. 0. 0. 0.]\n",
      "   [0. 0. 0. 0. 1. 0.]\n",
      "   [0. 0. 0. 0. 0. 0.]\n",
      "   [0. 0. 0. 0. 0. 0.]]\n",
      "\n",
      "  [[0. 0. 0. 0. 0. 0.]\n",
      "   [0. 0. 0. 0. 0. 1.]\n",
      "   [0. 0. 0. 0. 0. 0.]\n",
      "   [0. 0. 0. 0. 0. 0.]]]\n",
      "\n",
      "\n",
      " [[[0. 0. 0. 0. 0. 0.]\n",
      "   [0. 0. 0. 0. 0. 0.]\n",
      "   [1. 0. 0. 0. 0. 0.]\n",
      "   [0. 0. 0. 0. 0. 0.]]\n",
      "\n",
      "  [[0. 0. 0. 0. 0. 0.]\n",
      "   [0. 0. 0. 0. 0. 0.]\n",
      "   [0. 1. 0. 0. 0. 0.]\n",
      "   [0. 0. 0. 0. 0. 0.]]\n",
      "\n",
      "  [[0. 0. 0. 0. 0. 0.]\n",
      "   [0. 0. 0. 0. 0. 0.]\n",
      "   [0. 0. 1. 0. 0. 0.]\n",
      "   [0. 0. 0. 0. 0. 0.]]]\n",
      "\n",
      "\n",
      " [[[0. 0. 0. 0. 0. 0.]\n",
      "   [0. 0. 0. 0. 0. 0.]\n",
      "   [0. 0. 0. 1. 0. 0.]\n",
      "   [0. 0. 0. 0. 0. 0.]]\n",
      "\n",
      "  [[0. 0. 0. 0. 0. 0.]\n",
      "   [0. 0. 0. 0. 0. 0.]\n",
      "   [0. 0. 0. 0. 1. 0.]\n",
      "   [0. 0. 0. 0. 0. 0.]]\n",
      "\n",
      "  [[0. 0. 0. 0. 0. 0.]\n",
      "   [0. 0. 0. 0. 0. 0.]\n",
      "   [0. 0. 0. 0. 0. 1.]\n",
      "   [0. 0. 0. 0. 0. 0.]]]\n",
      "\n",
      "\n",
      " [[[0. 0. 0. 0. 0. 0.]\n",
      "   [0. 0. 0. 0. 0. 0.]\n",
      "   [0. 0. 0. 0. 0. 0.]\n",
      "   [1. 0. 0. 0. 0. 0.]]\n",
      "\n",
      "  [[0. 0. 0. 0. 0. 0.]\n",
      "   [0. 0. 0. 0. 0. 0.]\n",
      "   [0. 0. 0. 0. 0. 0.]\n",
      "   [0. 1. 0. 0. 0. 0.]]\n",
      "\n",
      "  [[0. 0. 0. 0. 0. 0.]\n",
      "   [0. 0. 0. 0. 0. 0.]\n",
      "   [0. 0. 0. 0. 0. 0.]\n",
      "   [0. 0. 1. 0. 0. 0.]]]\n",
      "\n",
      "\n",
      " [[[0. 0. 0. 0. 0. 0.]\n",
      "   [0. 0. 0. 0. 0. 0.]\n",
      "   [0. 0. 0. 0. 0. 0.]\n",
      "   [0. 0. 0. 1. 0. 0.]]\n",
      "\n",
      "  [[0. 0. 0. 0. 0. 0.]\n",
      "   [0. 0. 0. 0. 0. 0.]\n",
      "   [0. 0. 0. 0. 0. 0.]\n",
      "   [0. 0. 0. 0. 1. 0.]]\n",
      "\n",
      "  [[0. 0. 0. 0. 0. 0.]\n",
      "   [0. 0. 0. 0. 0. 0.]\n",
      "   [0. 0. 0. 0. 0. 0.]\n",
      "   [0. 0. 0. 0. 0. 1.]]]]\n"
     ]
    },
    {
     "name": "stderr",
     "output_type": "stream",
     "text": [
      "<ipython-input-88-b93e0569f648>:13: FutureWarning: `rcond` parameter will change to the default of machine precision times ``max(M, N)`` where M and N are the input matrix dimensions.\n",
      "To use the future default and silence this warning we advise to pass `rcond=None`, to keep using the old, explicitly pass `rcond=-1`.\n",
      "  for array in np.linalg.lstsq(d,k):\n"
     ]
    }
   ],
   "source": [
    "print(d)\n",
    "k=np.array([[1, 3, 2],\n",
    "            [0, 0, 6],\n",
    "            [7, 5, 4]])\n",
    "\n",
    "a = np.eye(24)\n",
    "a.shape = (4, 6, 8, 3)\n",
    "b=np.random.randn(4,6)\n",
    "\n",
    "print(np.linalg.solve(d,k))\n",
    "print(np.linalg.tensorsolve(a,b))\n",
    "\n",
    "for array in np.linalg.lstsq(d,k):\n",
    "    print(array)\n",
    "    \n",
    "print(np.linalg.inv(d))\n",
    "print(np.linalg.tensorinv(a))"
   ]
  },
  {
   "cell_type": "markdown",
   "metadata": {},
   "source": [
    "# Exceptions"
   ]
  },
  {
   "cell_type": "code",
   "execution_count": 80,
   "metadata": {},
   "outputs": [
    {
     "name": "stdout",
     "output_type": "stream",
     "text": [
      "<class 'numpy.linalg.LinAlgError'>\n"
     ]
    }
   ],
   "source": [
    "print(np.linalg.LinAlgError)"
   ]
  },
  {
   "cell_type": "code",
   "execution_count": null,
   "metadata": {},
   "outputs": [],
   "source": []
  }
 ],
 "metadata": {
  "kernelspec": {
   "display_name": "Python 3",
   "language": "python",
   "name": "python3"
  },
  "language_info": {
   "codemirror_mode": {
    "name": "ipython",
    "version": 3
   },
   "file_extension": ".py",
   "mimetype": "text/x-python",
   "name": "python",
   "nbconvert_exporter": "python",
   "pygments_lexer": "ipython3",
   "version": "3.8.2"
  }
 },
 "nbformat": 4,
 "nbformat_minor": 4
}
