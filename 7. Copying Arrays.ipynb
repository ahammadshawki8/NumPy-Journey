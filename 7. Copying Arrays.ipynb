{
 "cells": [
  {
   "cell_type": "markdown",
   "metadata": {},
   "source": [
    "       !! CAUTION !!\n",
    "!! BE VERY VERY CAREFUL !!"
   ]
  },
  {
   "cell_type": "code",
   "execution_count": 2,
   "metadata": {},
   "outputs": [
    {
     "name": "stdout",
     "output_type": "stream",
     "text": [
      "[3 5 2]\n",
      "[3 5 2]\n",
      "[88  5  2]\n",
      "[88  5  2]\n",
      "1739320463968\n",
      "1739320463968\n",
      "True\n"
     ]
    }
   ],
   "source": [
    "# module 7\n",
    "\n",
    "import numpy as np\n",
    "# we need to be very careful when we are doing copying with arrays.\n",
    "a=np.array([3,5,2])\n",
    "print(a)\n",
    "\n",
    "# lets say we need another array \"b\" and it will be a copy of \"a\" \n",
    "b=a\n",
    "print(b)\n",
    "\n",
    "# now if we need to change the values of b for some kind of reason.\n",
    "b[0]=88\n",
    "print(b)\n",
    "\n",
    "# that works fine but if we print the \"a\"\n",
    "print(a)\n",
    "\n",
    "# we can see that a is also being modified when we modified the b array.\n",
    "# thats not what we want.\n",
    "# that is happening because when we say b=a,\n",
    "# we tells numpy that a and b are same object, we didnt tell it to make a copy of a.\n",
    "# we can see that with id() method.\n",
    "print(id(a))\n",
    "print(id(b))\n",
    "# it tells us a and b have the same id in the memory.\n",
    "print( a is b)\n",
    "# it will return True\n",
    "\n",
    "# this is called \"ALIASING\".\n",
    "# we can change the same object using different variables."
   ]
  },
  {
   "cell_type": "code",
   "execution_count": 3,
   "metadata": {},
   "outputs": [
    {
     "name": "stdout",
     "output_type": "stream",
     "text": [
      "[88  5  2]\n",
      "[11  5  2]\n",
      "[11  5  2]\n",
      "1739320463968\n",
      "1739323353568\n",
      "False\n"
     ]
    }
   ],
   "source": [
    "# now we can copy this array with view() method.\n",
    "print(a)\n",
    "d=a.view()\n",
    "# this will create a \"Shallow copy\"\n",
    "d[0]=11\n",
    "print(d)\n",
    "print(a)\n",
    "print(id(a))\n",
    "print(id(d))\n",
    "print(a is d)\n",
    "# we can see that a and d are two different object.\n",
    "# even they poses differnt id in the memory.\n",
    "# but still they are connected. if we change one, another one get changed too.\n",
    "# this is the concept of \"Shallow copy\"."
   ]
  },
  {
   "cell_type": "code",
   "execution_count": 4,
   "metadata": {},
   "outputs": [
    {
     "name": "stdout",
     "output_type": "stream",
     "text": [
      "[11  5  2]\n",
      "[11  5  2]\n",
      "[9 5 2]\n",
      "[11  5  2]\n",
      "1739217256736\n",
      "1739320463968\n",
      "False\n"
     ]
    }
   ],
   "source": [
    "# if we want to prevent this problem, then we should use the copy() method instead of just equal to sign.\n",
    "print(a)\n",
    "c=a.copy()\n",
    "print(c)\n",
    "c[0]=9\n",
    "print(c)\n",
    "print(a)\n",
    "print(id(c))\n",
    "print(id(a))\n",
    "print(c is a)\n",
    "# this is called \"Deep copy\"\n",
    "# there are two different arrays with the same value but they are not connected to each other."
   ]
  },
  {
   "cell_type": "code",
   "execution_count": null,
   "metadata": {},
   "outputs": [],
   "source": []
  }
 ],
 "metadata": {
  "kernelspec": {
   "display_name": "Python 3",
   "language": "python",
   "name": "python3"
  },
  "language_info": {
   "codemirror_mode": {
    "name": "ipython",
    "version": 3
   },
   "file_extension": ".py",
   "mimetype": "text/x-python",
   "name": "python",
   "nbconvert_exporter": "python",
   "pygments_lexer": "ipython3",
   "version": "3.8.2"
  }
 },
 "nbformat": 4,
 "nbformat_minor": 4
}
