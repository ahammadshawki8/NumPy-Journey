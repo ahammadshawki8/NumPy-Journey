{
 "cells": [
  {
   "cell_type": "code",
   "execution_count": 2,
   "metadata": {},
   "outputs": [
    {
     "name": "stdout",
     "output_type": "stream",
     "text": [
      "[5 4 7 4 2]\n"
     ]
    }
   ],
   "source": [
    "# module 8\n",
    "\n",
    "import numpy as np\n",
    "# one of the coolest thing in numpy that all of the math capabilities it offers.\n",
    "# lets see some of them.\n",
    "# first of all lets look at element-wise arithmatic.\n",
    "a=np.array([5,4,7,4,2])\n",
    "print(a)"
   ]
  },
  {
   "cell_type": "code",
   "execution_count": 2,
   "metadata": {},
   "outputs": [
    {
     "name": "stdout",
     "output_type": "stream",
     "text": [
      "[7 6 9 6 4]\n",
      "[ 2  1  4  1 -1]\n",
      "[45 36 63 36 18]\n",
      "[25 16 49 16  4]\n",
      "[1.66666667 1.33333333 2.33333333 1.33333333 0.66666667]\n",
      "[2 2 3 2 1]\n",
      "[1 0 1 0 0]\n"
     ]
    }
   ],
   "source": [
    "# we can apply all arithmatic operation to an numpy array which we can do with the list\n",
    "print(a+2)\n",
    "print(a-3)\n",
    "print(a*9)\n",
    "print(a**2)\n",
    "print(a/3)\n",
    "print(a//2)\n",
    "print(a%2)"
   ]
  },
  {
   "cell_type": "code",
   "execution_count": 3,
   "metadata": {},
   "outputs": [
    {
     "name": "stdout",
     "output_type": "stream",
     "text": [
      "[6 0 2 3 1]\n"
     ]
    }
   ],
   "source": [
    "b=np.array([6,0,2,3,1])\n",
    "print(b)"
   ]
  },
  {
   "cell_type": "code",
   "execution_count": 4,
   "metadata": {},
   "outputs": [
    {
     "name": "stdout",
     "output_type": "stream",
     "text": [
      "[11  4  9  7  3]\n",
      "[-1  4  5  1  1]\n",
      "[30  0 14 12  2]\n",
      "[15625     1    49    64     2]\n",
      "[1.2        0.         0.28571429 0.75       0.5       ]\n",
      "[1 0 0 0 0]\n",
      "[1 0 2 3 1]\n"
     ]
    }
   ],
   "source": [
    "# we can do the same operations between multiple arrays\n",
    "print(a+b)\n",
    "print(a-b)\n",
    "print(a*b)\n",
    "print(a**b)\n",
    "print(b/a)\n",
    "print(b//a)\n",
    "print(b%a)"
   ]
  },
  {
   "cell_type": "code",
   "execution_count": 5,
   "metadata": {},
   "outputs": [
    {
     "name": "stdout",
     "output_type": "stream",
     "text": [
      "[[3 3 3]\n",
      " [3 3 3]]\n",
      "[[3.30852352 3.63388845 3.54730505]\n",
      " [3.02285626 3.91380673 3.78996915]]\n"
     ]
    },
    {
     "ename": "UFuncTypeError",
     "evalue": "Cannot cast ufunc 'add' output from dtype('float64') to dtype('int32') with casting rule 'same_kind'",
     "output_type": "error",
     "traceback": [
      "\u001b[1;31m---------------------------------------------------------------------------\u001b[0m",
      "\u001b[1;31mUFuncTypeError\u001b[0m                            Traceback (most recent call last)",
      "\u001b[1;32m<ipython-input-5-43709a49561e>\u001b[0m in \u001b[0;36m<module>\u001b[1;34m\u001b[0m\n\u001b[0;32m      8\u001b[0m \u001b[0mprint\u001b[0m\u001b[1;33m(\u001b[0m\u001b[0md\u001b[0m\u001b[1;33m)\u001b[0m\u001b[1;33m\u001b[0m\u001b[1;33m\u001b[0m\u001b[0m\n\u001b[0;32m      9\u001b[0m \u001b[1;33m\u001b[0m\u001b[0m\n\u001b[1;32m---> 10\u001b[1;33m \u001b[0mc\u001b[0m \u001b[1;33m+=\u001b[0m \u001b[0md\u001b[0m\u001b[1;33m\u001b[0m\u001b[1;33m\u001b[0m\u001b[0m\n\u001b[0m\u001b[0;32m     11\u001b[0m \u001b[1;31m# b is not automatically converted to integer type\u001b[0m\u001b[1;33m\u001b[0m\u001b[1;33m\u001b[0m\u001b[1;33m\u001b[0m\u001b[0m\n\u001b[0;32m     12\u001b[0m \u001b[1;31m# so it will give us an error.\u001b[0m\u001b[1;33m\u001b[0m\u001b[1;33m\u001b[0m\u001b[1;33m\u001b[0m\u001b[0m\n",
      "\u001b[1;31mUFuncTypeError\u001b[0m: Cannot cast ufunc 'add' output from dtype('float64') to dtype('int32') with casting rule 'same_kind'"
     ]
    }
   ],
   "source": [
    "# Some operations, such as += and *=, act in place to modify an existing array rather than create a new one.\n",
    "c = np.ones((2,3), dtype=int)\n",
    "d = np.random.random((2,3))\n",
    "c *= 3\n",
    "print(c)\n",
    "\n",
    "d += c\n",
    "print(d)\n",
    "\n",
    "c += d\n",
    "# b is not automatically converted to integer type\n",
    "# so it will give us an error.\n",
    "# so we should be very careful about this type of inplace operations in numpy"
   ]
  },
  {
   "cell_type": "code",
   "execution_count": 5,
   "metadata": {},
   "outputs": [
    {
     "name": "stdout",
     "output_type": "stream",
     "text": [
      "[[6.71036698 6.41932736 6.35171167]\n",
      " [6.07165038 6.64957395 6.98996264]]\n",
      "float64\n"
     ]
    }
   ],
   "source": [
    "# When operating with arrays of different types,\n",
    "# the type of the resulting array corresponds to the more general or precise one (c behavior known as upcasting)\n",
    "\n",
    "# it means if we create a new array instead of inplace operators, then its datatype will be a precise one like d.\n",
    "# and the other array c which is an integer type will be called upcasting.\n",
    "f=c+d\n",
    "print(f)\n",
    "print(f.dtype)"
   ]
  },
  {
   "cell_type": "code",
   "execution_count": 5,
   "metadata": {},
   "outputs": [
    {
     "name": "stdout",
     "output_type": "stream",
     "text": [
      "[2.23606798 2.         2.64575131 2.         1.41421356]\n",
      "1.624807680927192\n"
     ]
    }
   ],
   "source": [
    "# we can do the square root and standerd deviation of each element in the array.\n",
    "# what is standerd deviation?\n",
    "# wikipedia says that,\n",
    "# In statistics, the standard deviation is a measure of the amount of variation or dispersion of a set of values.\n",
    "# A low standard deviation indicates that the values tend to be close to the mean of the set, \n",
    "# while a high standard deviation indicates that the values are spread out over a wider range\n",
    "\n",
    "# we can find the squareroot by sqrt() method.\n",
    "print(np.sqrt(a))\n",
    "\n",
    "# we can find the standerd deviation by std() method.\n",
    "print(np.std(a))"
   ]
  },
  {
   "cell_type": "code",
   "execution_count": 6,
   "metadata": {},
   "outputs": [
    {
     "name": "stdout",
     "output_type": "stream",
     "text": [
      "[ 148.4131591    54.59815003 1096.63315843   54.59815003    7.3890561 ]\n",
      "[1.60943791 1.38629436 1.94591015 1.38629436 0.69314718]\n",
      "[0.69897    0.60205999 0.84509804 0.60205999 0.30103   ]\n"
     ]
    }
   ],
   "source": [
    "# we can also use exponential(e**x) and logarithmic functions in numpy array.\n",
    "# we can calculate the exponential by exp() function.\n",
    "print(np.exp(a))\n",
    "# we can calculate the natural logarithm by log() function.\n",
    "print(np.log(a))\n",
    "# we can calculate the common logarithm by log() function.\n",
    "print(np.log10(a))"
   ]
  },
  {
   "cell_type": "code",
   "execution_count": 9,
   "metadata": {},
   "outputs": [
    {
     "name": "stdout",
     "output_type": "stream",
     "text": [
      "[[3. 3. 3.]\n",
      " [3. 3. 3.]]\n",
      "[[4. 4. 4.]\n",
      " [4. 4. 4.]]\n",
      "[[3.31 3.63 3.55]\n",
      " [3.02 3.91 3.79]]\n",
      "[[  0  -1  -2  -3  -4]\n",
      " [ -5  -6  -7  -8  -9]\n",
      " [-10 -11 -12 -13 -14]]\n",
      "[[ 0  1  2  3  4]\n",
      " [ 5  6  7  8  9]\n",
      " [10 11 12 13 14]]\n"
     ]
    }
   ],
   "source": [
    "# we can also use the floor(), ceil(), round() function.they are actually same as python functions.\n",
    "print(np.floor(d))\n",
    "print(np.ceil(d))\n",
    "print(np.round(d,2))\n",
    "\n",
    "# we can also use the abs() function too.\n",
    "r=np.arange(15).reshape(3,5)*-1\n",
    "print(r)\n",
    "print(np.abs(r))"
   ]
  },
  {
   "cell_type": "code",
   "execution_count": 7,
   "metadata": {},
   "outputs": [
    {
     "name": "stdout",
     "output_type": "stream",
     "text": [
      "[-0.95892427 -0.7568025   0.6569866  -0.7568025   0.90929743]\n",
      "[ 0.28366219 -0.65364362  0.75390225 -0.65364362 -0.41614684]\n",
      "[-3.38051501  1.15782128  0.87144798  1.15782128 -2.18503986]\n",
      "[0.         1.57079633]\n",
      "[1.57079633 0.        ]\n",
      "[0.         0.78539816]\n"
     ]
    }
   ],
   "source": [
    "# we can also do trigonometry with numpy arrays\n",
    "print(np.sin(a))\n",
    "print(np.cos(a))\n",
    "print(np.tan(a))\n",
    "\n",
    "c=np.array([0,1])\n",
    "print(np.arcsin(c))\n",
    "print(np.arccos(c))\n",
    "print(np.arctan(c))"
   ]
  },
  {
   "cell_type": "code",
   "execution_count": 8,
   "metadata": {},
   "outputs": [
    {
     "data": {
      "text/plain": [
       "<matplotlib.legend.Legend at 0x15462d785b0>"
      ]
     },
     "execution_count": 8,
     "metadata": {},
     "output_type": "execute_result"
    },
    {
     "data": {
      "image/png": "[encoded data removed]",
      "text/plain": [
       "<Figure size 432x288 with 1 Axes>"
      ]
     },
     "metadata": {},
     "output_type": "display_data"
    }
   ],
   "source": [
    "# let us see the graph of sin and cosine using numpy and matplolib.\n",
    "\n",
    "# Sine Graph \n",
    "from matplotlib import pyplot as plt\n",
    "%matplotlib inline\n",
    "plt.style.use(\"ggplot\")\n",
    "\n",
    "x=np.arange(0,7*np.pi,0.01)\n",
    "y=np.sin(x)\n",
    "\n",
    "plt.plot(x,y,label=\"Sine\")\n",
    "plt.legend()"
   ]
  },
  {
   "cell_type": "code",
   "execution_count": 9,
   "metadata": {},
   "outputs": [
    {
     "data": {
      "text/plain": [
       "<matplotlib.legend.Legend at 0x154669d4f40>"
      ]
     },
     "execution_count": 9,
     "metadata": {},
     "output_type": "execute_result"
    },
    {
     "data": {
      "image/png": "[encoded data removed]",
      "text/plain": [
       "<Figure size 432x288 with 1 Axes>"
      ]
     },
     "metadata": {},
     "output_type": "display_data"
    }
   ],
   "source": [
    "# cosine graph\n",
    "plt.style.use(\"ggplot\")\n",
    "\n",
    "x=np.arange(0,7*np.pi,0.01)\n",
    "y=np.cos(x)\n",
    "\n",
    "plt.plot(x,y,label=\"Cosine\",color=\"b\")\n",
    "plt.legend(loc=\"lower left\")"
   ]
  },
  {
   "cell_type": "code",
   "execution_count": 10,
   "metadata": {
    "collapsed": true
   },
   "outputs": [
    {
     "name": "stdout",
     "output_type": "stream",
     "text": [
      "['ALLOW_THREADS', 'AxisError', 'BUFSIZE', 'CLIP', 'ComplexWarning', 'DataSource', 'ERR_CALL', 'ERR_DEFAULT', 'ERR_IGNORE', 'ERR_LOG', 'ERR_PRINT', 'ERR_RAISE', 'ERR_WARN', 'FLOATING_POINT_SUPPORT', 'FPE_DIVIDEBYZERO', 'FPE_INVALID', 'FPE_OVERFLOW', 'FPE_UNDERFLOW', 'False_', 'Inf', 'Infinity', 'MAXDIMS', 'MAY_SHARE_BOUNDS', 'MAY_SHARE_EXACT', 'MachAr', 'ModuleDeprecationWarning', 'NAN', 'NINF', 'NZERO', 'NaN', 'PINF', 'PZERO', 'RAISE', 'RankWarning', 'SHIFT_DIVIDEBYZERO', 'SHIFT_INVALID', 'SHIFT_OVERFLOW', 'SHIFT_UNDERFLOW', 'ScalarType', 'Tester', 'TooHardError', 'True_', 'UFUNC_BUFSIZE_DEFAULT', 'UFUNC_PYVALS_NAME', 'VisibleDeprecationWarning', 'WRAP', '_NoValue', '_UFUNC_API', '__NUMPY_SETUP__', '__all__', '__builtins__', '__cached__', '__config__', '__dir__', '__doc__', '__file__', '__getattr__', '__git_revision__', '__loader__', '__name__', '__package__', '__path__', '__spec__', '__version__', '_add_newdoc_ufunc', '_distributor_init', '_globals', '_mat', '_pytesttester', 'abs', 'absolute', 'absolute_import', 'add', 'add_docstring', 'add_newdoc', 'add_newdoc_ufunc', 'alen', 'all', 'allclose', 'alltrue', 'amax', 'amin', 'angle', 'any', 'append', 'apply_along_axis', 'apply_over_axes', 'arange', 'arccos', 'arccosh', 'arcsin', 'arcsinh', 'arctan', 'arctan2', 'arctanh', 'argmax', 'argmin', 'argpartition', 'argsort', 'argwhere', 'around', 'array', 'array2string', 'array_equal', 'array_equiv', 'array_repr', 'array_split', 'array_str', 'asanyarray', 'asarray', 'asarray_chkfinite', 'ascontiguousarray', 'asfarray', 'asfortranarray', 'asmatrix', 'asscalar', 'atleast_1d', 'atleast_2d', 'atleast_3d', 'average', 'bartlett', 'base_repr', 'binary_repr', 'bincount', 'bitwise_and', 'bitwise_not', 'bitwise_or', 'bitwise_xor', 'blackman', 'block', 'bmat', 'bool', 'bool8', 'bool_', 'broadcast', 'broadcast_arrays', 'broadcast_to', 'busday_count', 'busday_offset', 'busdaycalendar', 'byte', 'byte_bounds', 'bytes0', 'bytes_', 'c_', 'can_cast', 'cast', 'cbrt', 'cdouble', 'ceil', 'cfloat', 'char', 'character', 'chararray', 'choose', 'clip', 'clongdouble', 'clongfloat', 'column_stack', 'common_type', 'compare_chararrays', 'compat', 'complex', 'complex128', 'complex64', 'complex_', 'complexfloating', 'compress', 'concatenate', 'conj', 'conjugate', 'convolve', 'copy', 'copysign', 'copyto', 'core', 'corrcoef', 'correlate', 'cos', 'cosh', 'count_nonzero', 'cov', 'cross', 'csingle', 'ctypeslib', 'cumprod', 'cumproduct', 'cumsum', 'datetime64', 'datetime_as_string', 'datetime_data', 'deg2rad', 'degrees', 'delete', 'deprecate', 'deprecate_with_doc', 'diag', 'diag_indices', 'diag_indices_from', 'diagflat', 'diagonal', 'diff', 'digitize', 'disp', 'divide', 'division', 'divmod', 'dot', 'double', 'dsplit', 'dstack', 'dtype', 'e', 'ediff1d', 'einsum', 'einsum_path', 'emath', 'empty', 'empty_like', 'equal', 'errstate', 'euler_gamma', 'exp', 'exp2', 'expand_dims', 'expm1', 'extract', 'eye', 'fabs', 'fastCopyAndTranspose', 'fft', 'fill_diagonal', 'find_common_type', 'finfo', 'fix', 'flatiter', 'flatnonzero', 'flexible', 'flip', 'fliplr', 'flipud', 'float', 'float16', 'float32', 'float64', 'float_', 'float_power', 'floating', 'floor', 'floor_divide', 'fmax', 'fmin', 'fmod', 'format_float_positional', 'format_float_scientific', 'format_parser', 'frexp', 'frombuffer', 'fromfile', 'fromfunction', 'fromiter', 'frompyfunc', 'fromregex', 'fromstring', 'full', 'full_like', 'fv', 'gcd', 'generic', 'genfromtxt', 'geomspace', 'get_array_wrap', 'get_include', 'get_printoptions', 'getbufsize', 'geterr', 'geterrcall', 'geterrobj', 'gradient', 'greater', 'greater_equal', 'half', 'hamming', 'hanning', 'heaviside', 'histogram', 'histogram2d', 'histogram_bin_edges', 'histogramdd', 'hsplit', 'hstack', 'hypot', 'i0', 'identity', 'iinfo', 'imag', 'in1d', 'index_exp', 'indices', 'inexact', 'inf', 'info', 'infty', 'inner', 'insert', 'int', 'int0', 'int16', 'int32', 'int64', 'int8', 'int_', 'int_asbuffer', 'intc', 'integer', 'interp', 'intersect1d', 'intp', 'invert', 'ipmt', 'irr', 'is_busday', 'isclose', 'iscomplex', 'iscomplexobj', 'isfinite', 'isfortran', 'isin', 'isinf', 'isnan', 'isnat', 'isneginf', 'isposinf', 'isreal', 'isrealobj', 'isscalar', 'issctype', 'issubclass_', 'issubdtype', 'issubsctype', 'iterable', 'ix_', 'kaiser', 'kron', 'lcm', 'ldexp', 'left_shift', 'less', 'less_equal', 'lexsort', 'lib', 'linalg', 'linspace', 'little_endian', 'load', 'loads', 'loadtxt', 'log', 'log10', 'log1p', 'log2', 'logaddexp', 'logaddexp2', 'logical_and', 'logical_not', 'logical_or', 'logical_xor', 'logspace', 'long', 'longcomplex', 'longdouble', 'longfloat', 'longlong', 'lookfor', 'ma', 'mafromtxt', 'mask_indices', 'mat', 'math', 'matmul', 'matrix', 'matrixlib', 'max', 'maximum', 'maximum_sctype', 'may_share_memory', 'mean', 'median', 'memmap', 'meshgrid', 'mgrid', 'min', 'min_scalar_type', 'minimum', 'mintypecode', 'mirr', 'mod', 'modf', 'moveaxis', 'msort', 'multiply', 'nan', 'nan_to_num', 'nanargmax', 'nanargmin', 'nancumprod', 'nancumsum', 'nanmax', 'nanmean', 'nanmedian', 'nanmin', 'nanpercentile', 'nanprod', 'nanquantile', 'nanstd', 'nansum', 'nanvar', 'nbytes', 'ndarray', 'ndenumerate', 'ndfromtxt', 'ndim', 'ndindex', 'nditer', 'negative', 'nested_iters', 'newaxis', 'nextafter', 'nonzero', 'not_equal', 'nper', 'npv', 'numarray', 'number', 'obj2sctype', 'object', 'object0', 'object_', 'ogrid', 'oldnumeric', 'ones', 'ones_like', 'outer', 'packbits', 'pad', 'partition', 'percentile', 'pi', 'piecewise', 'place', 'pmt', 'poly', 'poly1d', 'polyadd', 'polyder', 'polydiv', 'polyfit', 'polyint', 'polymul', 'polynomial', 'polysub', 'polyval', 'positive', 'power', 'ppmt', 'print_function', 'printoptions', 'prod', 'product', 'promote_types', 'ptp', 'put', 'put_along_axis', 'putmask', 'pv', 'quantile', 'r_', 'rad2deg', 'radians', 'random', 'rate', 'ravel', 'ravel_multi_index', 'real', 'real_if_close', 'rec', 'recarray', 'recfromcsv', 'recfromtxt', 'reciprocal', 'record', 'remainder', 'repeat', 'require', 'reshape', 'resize', 'result_type', 'right_shift', 'rint', 'roll', 'rollaxis', 'roots', 'rot90', 'round', 'round_', 'row_stack', 's_', 'safe_eval', 'save', 'savetxt', 'savez', 'savez_compressed', 'sctype2char', 'sctypeDict', 'sctypeNA', 'sctypes', 'searchsorted', 'select', 'set_numeric_ops', 'set_printoptions', 'set_string_function', 'setbufsize', 'setdiff1d', 'seterr', 'seterrcall', 'seterrobj', 'setxor1d', 'shape', 'shares_memory', 'short', 'show_config', 'sign', 'signbit', 'signedinteger', 'sin', 'sinc', 'single', 'singlecomplex', 'sinh', 'size', 'sometrue', 'sort', 'sort_complex', 'source', 'spacing', 'split', 'sqrt', 'square', 'squeeze', 'stack', 'std', 'str', 'str0', 'str_', 'string_', 'subtract', 'sum', 'swapaxes', 'sys', 'take', 'take_along_axis', 'tan', 'tanh', 'tensordot', 'test', 'testing', 'tile', 'timedelta64', 'trace', 'tracemalloc_domain', 'transpose', 'trapz', 'tri', 'tril', 'tril_indices', 'tril_indices_from', 'trim_zeros', 'triu', 'triu_indices', 'triu_indices_from', 'true_divide', 'trunc', 'typeDict', 'typeNA', 'typecodes', 'typename', 'ubyte', 'ufunc', 'uint', 'uint0', 'uint16', 'uint32', 'uint64', 'uint8', 'uintc', 'uintp', 'ulonglong', 'unicode', 'unicode_', 'union1d', 'unique', 'unpackbits', 'unravel_index', 'unsignedinteger', 'unwrap', 'ushort', 'vander', 'var', 'vdot', 'vectorize', 'version', 'void', 'void0', 'vsplit', 'vstack', 'warnings', 'where', 'who', 'zeros', 'zeros_like']\n"
     ]
    },
    {
     "data": {
      "text/plain": [
       "'https://docs.scipy.org/doc/numpy/reference/routines.math.html'"
      ]
     },
     "execution_count": 10,
     "metadata": {},
     "output_type": "execute_result"
    }
   ],
   "source": [
    "# now we are getting curious about numpy methods. lets look at them.\n",
    "print(dir(np))\n",
    "# we can see that there are lots of math functions out there.\n",
    "# we can find more information about thos methods in this link-\n",
    "\"https://docs.scipy.org/doc/numpy/reference/routines.math.html\"\n",
    "# we can also use hyperbolic, rounding and lots of method."
   ]
  },
  {
   "cell_type": "markdown",
   "metadata": {},
   "source": [
    "# Trigonometry"
   ]
  },
  {
   "cell_type": "code",
   "execution_count": 17,
   "metadata": {},
   "outputs": [
    {
     "name": "stdout",
     "output_type": "stream",
     "text": [
      "[5 4 7 4 2]\n",
      "[0 1]\n",
      "[-0.95892427 -0.7568025   0.6569866  -0.7568025   0.90929743]\n",
      "[ 0.28366219 -0.65364362  0.75390225 -0.65364362 -0.41614684]\n",
      "[-3.38051501  1.15782128  0.87144798  1.15782128 -2.18503986]\n",
      "[0.         1.57079633]\n",
      "[1.57079633 0.        ]\n",
      "[0.         0.78539816]\n",
      "[ 2.35619449 -0.78539816  0.78539816 -2.35619449]\n",
      "5.0\n",
      "[286.47889757 229.18311805 401.07045659 229.18311805 114.59155903]\n",
      "[286.47889757 229.18311805 401.07045659 229.18311805 114.59155903]\n",
      "[0.08726646 0.06981317 0.12217305 0.06981317 0.03490659]\n",
      "[0.08726646 0.06981317 0.12217305 0.06981317 0.03490659]\n",
      "[5. 4. 7. 4. 2.]\n"
     ]
    }
   ],
   "source": [
    "print(a)\n",
    "print(c)\n",
    "\n",
    "print(np.sin(a))\n",
    "print(np.cos(a))\n",
    "print(np.tan(a))\n",
    "\n",
    "print(np.arcsin(c))\n",
    "print(np.arccos(c))\n",
    "print(np.arctan(c))\n",
    "print(np.arctan2([+1,-1,+1,-1],\n",
    "                 [-1,+1,+1,-1]))\n",
    "\n",
    "print(np.hypot(4,3))\n",
    "\n",
    "print(np.degrees(a))\n",
    "print(np.rad2deg(a))\n",
    "\n",
    "print(np.radians(a))\n",
    "print(np.deg2rad(a))\n",
    "\n",
    "print(np.unwrap(a))"
   ]
  },
  {
   "cell_type": "markdown",
   "metadata": {},
   "source": [
    "# Hyperbolic"
   ]
  },
  {
   "cell_type": "code",
   "execution_count": 18,
   "metadata": {},
   "outputs": [
    {
     "name": "stdout",
     "output_type": "stream",
     "text": [
      "[ 74.20321058  27.2899172  548.31612327  27.2899172    3.62686041]\n",
      "[ 74.20994852  27.30823284 548.31703516  27.30823284   3.76219569]\n",
      "[0.9999092  0.9993293  0.99999834 0.9993293  0.96402758]\n",
      "[0.         0.88137359]\n",
      "[nan  0.]\n",
      "[ 0. inf]"
     ]
    },
    {
     "name": "stderr",
     "output_type": "stream",
     "text": [
      "<ipython-input-18-2132b9b97921>:6: RuntimeWarning: invalid value encountered in arccosh\n",
      "  print(np.arccosh(c))\n",
      "<ipython-input-18-2132b9b97921>:7: RuntimeWarning: divide by zero encountered in arctanh\n",
      "  print(np.arctanh(c))\n"
     ]
    },
    {
     "name": "stdout",
     "output_type": "stream",
     "text": [
      "\n"
     ]
    }
   ],
   "source": [
    "print(np.sinh(a))\n",
    "print(np.cosh(a))\n",
    "print(np.tanh(a))\n",
    "\n",
    "print(np.arcsinh(c))\n",
    "print(np.arccosh(c))\n",
    "print(np.arctanh(c))"
   ]
  },
  {
   "cell_type": "markdown",
   "metadata": {},
   "source": [
    "# Rounding"
   ]
  },
  {
   "cell_type": "code",
   "execution_count": 19,
   "metadata": {},
   "outputs": [
    {
     "name": "stdout",
     "output_type": "stream",
     "text": [
      "[ 2.45  7.89 34.11 34.34 67.3  56.  ]\n",
      "[ 2.45  7.89 34.11 34.34 67.3  56.  ]\n",
      "[ 2.  8. 34. 34. 67. 56.]\n",
      "[ 2.  7. 34. 34. 67. 56.]\n",
      "[ 2.  7. 34. 34. 67. 56.]\n",
      "[ 3.  8. 35. 35. 68. 56.]\n",
      "[ 2.  7. 34. 34. 67. 56.]\n"
     ]
    }
   ],
   "source": [
    "z=[2.453,7.887,34.1111,34.3434,67.3,56]\n",
    "\n",
    "print(np.around(z,2))\n",
    "print(np.round_(z,2))\n",
    "print(np.rint(z))\n",
    "print(np.fix(z))\n",
    "print(np.floor(z))\n",
    "print(np.ceil(z))\n",
    "print(np.trunc(z))"
   ]
  },
  {
   "cell_type": "markdown",
   "metadata": {},
   "source": [
    "# sums, products & differences"
   ]
  },
  {
   "cell_type": "code",
   "execution_count": 38,
   "metadata": {},
   "outputs": [
    {
     "name": "stdout",
     "output_type": "stream",
     "text": [
      "[  nan 622.3   nan]\n",
      "[nan nan]\n",
      "[  2.453 622.3     1.   ]\n",
      "[165.0869 555.    ]\n",
      "[[  2.453  67.3       nan]\n",
      " [    nan 622.3       nan]]\n",
      "[[  2.453  165.0869      nan]\n",
      " [     nan      nan      nan]]\n",
      "[[  2.453  67.3     0.   ]\n",
      " [  2.453 622.3     1.   ]]\n",
      "[[  2.453  165.0869 165.0869]\n",
      " [  1.     555.     555.    ]]\n",
      "[[  nan 487.7   nan]]\n",
      "[  64.847      nan      nan      nan -554.   ]\n",
      "[[   nan    nan  -67.3]\n",
      " [1665.     nan    nan]]\n",
      "[nan nan]\n"
     ]
    }
   ],
   "source": [
    "z=np.array([[2.453,67.3, np.nan],\n",
    "   [np.nan,555,1]])\n",
    "k=np.array([1,0, 3])\n",
    "\n",
    "print(np.sum(z,axis=0))\n",
    "print(np.prod(z,axis=1))\n",
    "\n",
    "print(np.nansum(z,axis=0))\n",
    "print(np.nanprod(z,axis=1))\n",
    "\n",
    "print(np.cumsum(z,axis=0))\n",
    "print(np.cumprod(z,axis=1))\n",
    "\n",
    "print(np.nancumsum(z,axis=0))\n",
    "print(np.nancumprod(z,axis=1))\n",
    "\n",
    "print(np.diff(z,axis=0))\n",
    "print(np.ediff1d(z))\n",
    "\n",
    "print(np.cross(z,k))\n",
    "print(np.trapz(z))"
   ]
  },
  {
   "cell_type": "markdown",
   "metadata": {},
   "source": [
    "# exponent & logarithm"
   ]
  },
  {
   "cell_type": "code",
   "execution_count": 39,
   "metadata": {},
   "outputs": [
    {
     "name": "stdout",
     "output_type": "stream",
     "text": [
      "[[1.16231640e+001 1.69051346e+029             nan]\n",
      " [            nan 1.08003407e+241 2.71828183e+000]]\n",
      "[[1.06231640e+001 1.69051346e+029             nan]\n",
      " [            nan 1.08003407e+241 1.71828183e+000]]\n",
      "[[5.47553525e+000 1.81684847e+020             nan]\n",
      " [            nan 1.17936326e+167 2.00000000e+000]]\n",
      "[[0.89731177 4.20916024        nan]\n",
      " [       nan 6.31896811 0.        ]]\n",
      "[[0.38969755 1.82801506        nan]\n",
      " [       nan 2.74429298 0.        ]]\n",
      "[[1.29454723 6.0725346         nan]\n",
      " [       nan 9.11634396 0.        ]]\n",
      "[[1.23924342 4.22390977        nan]\n",
      " [       nan 6.32076829 0.69314718]]\n",
      "[[  2.66315365  67.3                 nan]\n",
      " [         nan 555.           3.12692801]]\n",
      "[[  2.90217688  67.3                 nan]\n",
      " [         nan 555.           3.32192809]]\n"
     ]
    },
    {
     "name": "stderr",
     "output_type": "stream",
     "text": [
      "<ipython-input-39-6c33fd518a9b>:10: RuntimeWarning: invalid value encountered in logaddexp\n",
      "  print(np.logaddexp(z,k))\n",
      "<ipython-input-39-6c33fd518a9b>:11: RuntimeWarning: invalid value encountered in logaddexp2\n",
      "  print(np.logaddexp2(z,k))\n"
     ]
    }
   ],
   "source": [
    "print(np.exp(z))\n",
    "print(np.expm1(z))\n",
    "print(np.exp2(z))\n",
    "\n",
    "print(np.log(z))\n",
    "print(np.log10(z))\n",
    "print(np.log2(z))\n",
    "print(np.log1p(z))\n",
    "\n",
    "print(np.logaddexp(z,k))\n",
    "print(np.logaddexp2(z,k))"
   ]
  },
  {
   "cell_type": "markdown",
   "metadata": {},
   "source": [
    "# special functions"
   ]
  },
  {
   "cell_type": "code",
   "execution_count": 36,
   "metadata": {},
   "outputs": [
    {
     "name": "stdout",
     "output_type": "stream",
     "text": [
      "[[3.17404089e+000 8.23633292e+027             nan]\n",
      " [            nan 1.82935896e+239 1.26606588e+000]]\n",
      "[[ 1.28351527e-01 -3.82642062e-03             nan]\n",
      " [            nan -2.41836519e-17  3.89817183e-17]]\n"
     ]
    },
    {
     "name": "stderr",
     "output_type": "stream",
     "text": [
      "f:\\python soft file\\lib\\site-packages\\numpy\\lib\\function_base.py:3107: RuntimeWarning: invalid value encountered in less_equal\n",
      "  return piecewise(x, [x <= 8.0], [_i0_1, _i0_2])\n"
     ]
    }
   ],
   "source": [
    "print(np.i0(z))\n",
    "print(np.sinc(z))"
   ]
  },
  {
   "cell_type": "markdown",
   "metadata": {},
   "source": [
    "# rational routines"
   ]
  },
  {
   "cell_type": "code",
   "execution_count": 41,
   "metadata": {},
   "outputs": [
    {
     "name": "stdout",
     "output_type": "stream",
     "text": [
      "[  80  476 1872]\n",
      "[10  1  6]\n"
     ]
    }
   ],
   "source": [
    "a=np.array([10,68,78])\n",
    "b=np.array([80,7,144])\n",
    "\n",
    "print(np.lcm(a,b))\n",
    "print(np.gcd(a,b))"
   ]
  },
  {
   "cell_type": "markdown",
   "metadata": {},
   "source": [
    "# floating point routines"
   ]
  },
  {
   "cell_type": "code",
   "execution_count": 53,
   "metadata": {},
   "outputs": [
    {
     "name": "stdout",
     "output_type": "stream",
     "text": [
      "[False  True False]\n",
      "[-10.  68. -78.]\n",
      "[ 0.625    -0.53125   0.609375]\n",
      "[4 7 7]\n",
      "[ 10. -68.  78.]\n",
      "[ 1.77635684e-15 -1.42108547e-14  1.42108547e-14]\n"
     ]
    }
   ],
   "source": [
    "a=np.array([10,-68,78])\n",
    "b=np.array([-80,7,-144])\n",
    "\n",
    "print(np.signbit(a))\n",
    "print(np.copysign(a,b))\n",
    "\n",
    "for array in np.frexp(a):\n",
    "    print(array)\n",
    "    \n",
    "print(np.nextafter(a,b))\n",
    "print(np.spacing(a))"
   ]
  },
  {
   "cell_type": "markdown",
   "metadata": {},
   "source": [
    "# Arithmatic operations"
   ]
  },
  {
   "cell_type": "markdown",
   "metadata": {},
   "source": [
    "print(np.add(a,b))\n",
    "print(np.reciprocal(a))\n",
    "print(np.positive(a))\n",
    "print(np.negative(a))\n",
    "print(np.multiply(a,b))\n",
    "print(np.divide(a,b))\n",
    "print(np.true_divide(a,b))\n",
    "print(np.floor_divide(a,b))\n",
    "print(np.power(a,np.abs(b)))\n",
    "print(np.float_power(a,b))\n",
    "print(np.subtract(a,b))\n",
    "\n",
    "print(np.mod(a,b))\n",
    "print(np.fmod(a,b))\n",
    "\n",
    "for array in np.modf(a):\n",
    "    print(array)\n",
    "    \n",
    "print(np.remainder(a,b))\n",
    "\n",
    "for array in np.divmod(a,b):\n",
    "    print(array)"
   ]
  },
  {
   "cell_type": "markdown",
   "metadata": {},
   "source": [
    "# complex numbers"
   ]
  },
  {
   "cell_type": "code",
   "execution_count": 66,
   "metadata": {},
   "outputs": [
    {
     "name": "stdout",
     "output_type": "stream",
     "text": [
      "1.1071487177940904\n",
      "2.0\n",
      "4.0\n",
      "(2-4j)\n",
      "(2-4j)\n"
     ]
    }
   ],
   "source": [
    "a= complex(2,4)\n",
    "\n",
    "print(np.angle(a))\n",
    "\n",
    "print(np.real(a))\n",
    "print(np.imag(a))\n",
    "\n",
    "print(np.conj(a))\n",
    "print(np.conjugate(a))"
   ]
  },
  {
   "cell_type": "markdown",
   "metadata": {},
   "source": [
    "# Miscellaneous"
   ]
  },
  {
   "cell_type": "code",
   "execution_count": 15,
   "metadata": {},
   "outputs": [
    {
     "name": "stdout",
     "output_type": "stream",
     "text": [
      "[  -800  -5370  -7204  -9246 -11232]\n",
      "[20 68 70]\n",
      "[3.16227766 8.24621125 8.83176087]\n",
      "[2.15443469 4.0816551  4.27265868]\n",
      "[ 100 4624 6084]\n",
      "[ 80   7 144]\n",
      "[ 80.   7. 144.]\n",
      "[-1  1 -1]\n",
      "[1. 1. 1.]\n",
      "[10 68 78]\n",
      "[ -80    7 -144]\n",
      "[10 68 78]\n",
      "[ -80    7 -144]\n",
      "[0.00000000e+000 1.79769313e+308 0.00000000e+000 1.00000000e+000]\n",
      "[nan inf  0.  1.]\n"
     ]
    },
    {
     "ename": "ValueError",
     "evalue": "object of too small depth for desired array",
     "output_type": "error",
     "traceback": [
      "\u001b[1;31m---------------------------------------------------------------------------\u001b[0m",
      "\u001b[1;31mValueError\u001b[0m                                Traceback (most recent call last)",
      "\u001b[1;32m<ipython-input-15-1c7e47b0006f>\u001b[0m in \u001b[0;36m<module>\u001b[1;34m\u001b[0m\n\u001b[0;32m     24\u001b[0m \u001b[0mprint\u001b[0m\u001b[1;33m(\u001b[0m\u001b[0mnp\u001b[0m\u001b[1;33m.\u001b[0m\u001b[0mnan_to_num\u001b[0m\u001b[1;33m(\u001b[0m\u001b[0mc\u001b[0m\u001b[1;33m)\u001b[0m\u001b[1;33m)\u001b[0m\u001b[1;33m\u001b[0m\u001b[1;33m\u001b[0m\u001b[0m\n\u001b[0;32m     25\u001b[0m \u001b[0mprint\u001b[0m\u001b[1;33m(\u001b[0m\u001b[0mnp\u001b[0m\u001b[1;33m.\u001b[0m\u001b[0mreal_if_close\u001b[0m\u001b[1;33m(\u001b[0m\u001b[0mc\u001b[0m\u001b[1;33m)\u001b[0m\u001b[1;33m)\u001b[0m\u001b[1;33m\u001b[0m\u001b[1;33m\u001b[0m\u001b[0m\n\u001b[1;32m---> 26\u001b[1;33m \u001b[0mprint\u001b[0m\u001b[1;33m(\u001b[0m\u001b[0mnp\u001b[0m\u001b[1;33m.\u001b[0m\u001b[0minterp\u001b[0m\u001b[1;33m(\u001b[0m\u001b[0ma\u001b[0m\u001b[1;33m,\u001b[0m\u001b[1;36m1\u001b[0m\u001b[1;33m,\u001b[0m\u001b[1;36m3\u001b[0m\u001b[1;33m)\u001b[0m\u001b[1;33m)\u001b[0m\u001b[1;33m\u001b[0m\u001b[1;33m\u001b[0m\u001b[0m\n\u001b[0m",
      "\u001b[1;32m<__array_function__ internals>\u001b[0m in \u001b[0;36minterp\u001b[1;34m(*args, **kwargs)\u001b[0m\n",
      "\u001b[1;32mf:\\python soft file\\lib\\site-packages\\numpy\\lib\\function_base.py\u001b[0m in \u001b[0;36minterp\u001b[1;34m(x, xp, fp, left, right, period)\u001b[0m\n\u001b[0;32m   1410\u001b[0m         \u001b[0mfp\u001b[0m \u001b[1;33m=\u001b[0m \u001b[0mnp\u001b[0m\u001b[1;33m.\u001b[0m\u001b[0mconcatenate\u001b[0m\u001b[1;33m(\u001b[0m\u001b[1;33m(\u001b[0m\u001b[0mfp\u001b[0m\u001b[1;33m[\u001b[0m\u001b[1;33m-\u001b[0m\u001b[1;36m1\u001b[0m\u001b[1;33m:\u001b[0m\u001b[1;33m]\u001b[0m\u001b[1;33m,\u001b[0m \u001b[0mfp\u001b[0m\u001b[1;33m,\u001b[0m \u001b[0mfp\u001b[0m\u001b[1;33m[\u001b[0m\u001b[1;36m0\u001b[0m\u001b[1;33m:\u001b[0m\u001b[1;36m1\u001b[0m\u001b[1;33m]\u001b[0m\u001b[1;33m)\u001b[0m\u001b[1;33m)\u001b[0m\u001b[1;33m\u001b[0m\u001b[1;33m\u001b[0m\u001b[0m\n\u001b[0;32m   1411\u001b[0m \u001b[1;33m\u001b[0m\u001b[0m\n\u001b[1;32m-> 1412\u001b[1;33m     \u001b[1;32mreturn\u001b[0m \u001b[0minterp_func\u001b[0m\u001b[1;33m(\u001b[0m\u001b[0mx\u001b[0m\u001b[1;33m,\u001b[0m \u001b[0mxp\u001b[0m\u001b[1;33m,\u001b[0m \u001b[0mfp\u001b[0m\u001b[1;33m,\u001b[0m \u001b[0mleft\u001b[0m\u001b[1;33m,\u001b[0m \u001b[0mright\u001b[0m\u001b[1;33m)\u001b[0m\u001b[1;33m\u001b[0m\u001b[1;33m\u001b[0m\u001b[0m\n\u001b[0m\u001b[0;32m   1413\u001b[0m \u001b[1;33m\u001b[0m\u001b[0m\n\u001b[0;32m   1414\u001b[0m \u001b[1;33m\u001b[0m\u001b[0m\n",
      "\u001b[1;31mValueError\u001b[0m: object of too small depth for desired array"
     ]
    }
   ],
   "source": [
    "a=np.array([10,68,78])\n",
    "b=np.array([-80,7,-144])\n",
    "c=np.array([np.nan, np.inf, 0, 1])\n",
    "\n",
    "print(np.convolve(a,b))\n",
    "print(np.clip(a,20,70))\n",
    "\n",
    "print(np.sqrt(a))\n",
    "print(np.cbrt(a))\n",
    "\n",
    "print(np.square(a))\n",
    "\n",
    "print(np.absolute(b))\n",
    "print(np.fabs(b))\n",
    "print(np.sign(b))\n",
    "\n",
    "print(np.heaviside(a,b))\n",
    "\n",
    "print(np.maximum(a,b))\n",
    "print(np.minimum(a,b))\n",
    "print(np.fmax(a,b))\n",
    "print(np.fmin(a,b))\n",
    "\n",
    "print(np.nan_to_num(c))\n",
    "print(np.real_if_close(c))"
   ]
  },
  {
   "cell_type": "code",
   "execution_count": null,
   "metadata": {},
   "outputs": [],
   "source": []
  }
 ],
 "metadata": {
  "kernelspec": {
   "display_name": "Python 3",
   "language": "python",
   "name": "python3"
  },
  "language_info": {
   "codemirror_mode": {
    "name": "ipython",
    "version": 3
   },
   "file_extension": ".py",
   "mimetype": "text/x-python",
   "name": "python",
   "nbconvert_exporter": "python",
   "pygments_lexer": "ipython3",
   "version": "3.8.5"
  }
 },
 "nbformat": 4,
 "nbformat_minor": 4
}
